{
 "cells": [
  {
   "cell_type": "markdown",
   "id": "b6018579",
   "metadata": {},
   "source": [
    "# Python Worksheet\n",
    "\n",
    "              1. (C)\n",
    "              2. (B)\n",
    "              3. (C)\n",
    "              4. (A)\n",
    "              5. (D)\n",
    "              6. (C)\n",
    "              7. (A)\n",
    "              8. (C)\n",
    "              9. (A), (C)\n",
    "              10. (A), (B)\n",
    "              \n",
    "        "
   ]
  },
  {
   "cell_type": "markdown",
   "id": "f278f79d",
   "metadata": {},
   "source": [
    "# 11. Answer mentioned below:"
   ]
  },
  {
   "cell_type": "code",
   "execution_count": 10,
   "id": "f905caa4",
   "metadata": {},
   "outputs": [
    {
     "name": "stdout",
     "output_type": "stream",
     "text": [
      "enter number to find the factorial2\n",
      "The factorial is  2\n"
     ]
    }
   ],
   "source": [
    "# Program to find the factorial of a no. entered by user\n",
    "\n",
    "x=int(input(\"enter number to find the factorial\"))\n",
    "def fact(x):\n",
    "    \n",
    "    if x==1 :\n",
    "        return 1\n",
    "    else :\n",
    "        return x*fact(x-1)\n",
    "    \n",
    "if x<0 :\n",
    "    print(\" number is negative, factorial not available\")\n",
    "elif x==0:\n",
    "    print(\"The factorial is \",1)\n",
    "else:\n",
    "     print(\"The factorial is \",fact(x))"
   ]
  },
  {
   "cell_type": "markdown",
   "id": "26afe34d",
   "metadata": {},
   "source": [
    "# 12. Answers mentioned below:"
   ]
  },
  {
   "cell_type": "code",
   "execution_count": 9,
   "id": "725e9cd1",
   "metadata": {},
   "outputs": [
    {
     "name": "stdout",
     "output_type": "stream",
     "text": [
      "enter the number5\n",
      "Number is prime\n"
     ]
    }
   ],
   "source": [
    "# Program for whether entered number is a prime number or a composite number\n",
    "\n",
    "x=int(input('enter the number'))\n",
    "if x==0 or x==1:\n",
    "    print(\"neither prime nor composite\")\n",
    "else:\n",
    "    k=[]\n",
    "    for i in range(1,x):\n",
    "        if x%i==0:\n",
    "            k.append(i)\n",
    "    if len(k)<=2:\n",
    "        print(\"Number is prime\")\n",
    "        \n",
    "    else :\n",
    "        print(\"Number is composite\")  "
   ]
  },
  {
   "cell_type": "markdown",
   "id": "926dea85",
   "metadata": {},
   "source": [
    "# 13. Answer mentioned below:"
   ]
  },
  {
   "cell_type": "code",
   "execution_count": 14,
   "id": "3ecf0ff8",
   "metadata": {},
   "outputs": [
    {
     "name": "stdout",
     "output_type": "stream",
     "text": [
      "Enter the string12\n",
      "the string is not palindrome\n"
     ]
    }
   ],
   "source": [
    "# Program to check if the entered string is palindrome or not\n",
    "\n",
    "string=input(\"Enter the string\")\n",
    "rev_string=\"\"\n",
    "for x in range(1,len(string)+1):\n",
    "    rev_string=rev_string+string.lower()[-x]\n",
    "if rev_string==string:\n",
    "    print(\"the string is palindrome\")\n",
    "else :\n",
    "    print(\"the string is not palindrome\")"
   ]
  },
  {
   "cell_type": "markdown",
   "id": "441e9f4a",
   "metadata": {},
   "source": [
    "# 14. Answer mentioned below:"
   ]
  },
  {
   "cell_type": "code",
   "execution_count": 15,
   "id": "45c117f0",
   "metadata": {},
   "outputs": [
    {
     "name": "stdout",
     "output_type": "stream",
     "text": [
      "enter right angled triangle45\n",
      "enter the perpendicular of the right angled triangle55\n",
      "the length of hypotenuse is  71.06335201775947\n"
     ]
    }
   ],
   "source": [
    "# Program to find the length of hypotenuse of a right angled triangle\n",
    "\n",
    "import math\n",
    "x=int(input(\"enter right angled triangle\"))\n",
    "y=int(input(\"enter the perpendicular of the right angled triangle\"))\n",
    "print(\"the length of hypotenuse is \",math.sqrt(x**2+y**2))"
   ]
  },
  {
   "cell_type": "markdown",
   "id": "ccbd1197",
   "metadata": {},
   "source": [
    "# 15. Answer mentioned below :"
   ]
  },
  {
   "cell_type": "code",
   "execution_count": 16,
   "id": "ec271cdd",
   "metadata": {},
   "outputs": [
    {
     "name": "stdout",
     "output_type": "stream",
     "text": [
      "Enter the stringram\n",
      " The frequencies of characters in the string are {'r': 1, 'a': 1, 'm': 1}\n"
     ]
    }
   ],
   "source": [
    "# Program to find the frequency of each character present in the entered string\n",
    "\n",
    "string=input(\"Enter the string\")\n",
    "freq=dict()\n",
    "for i in string :\n",
    "    if i in freq.keys():\n",
    "        freq[i]=freq[i]+1\n",
    "    else :\n",
    "        freq[i]=1\n",
    "print(\" The frequencies of characters in the string are\", freq)"
   ]
  },
  {
   "cell_type": "code",
   "execution_count": null,
   "id": "e810dae8",
   "metadata": {},
   "outputs": [],
   "source": []
  }
 ],
 "metadata": {
  "kernelspec": {
   "display_name": "Python 3",
   "language": "python",
   "name": "python3"
  },
  "language_info": {
   "codemirror_mode": {
    "name": "ipython",
    "version": 3
   },
   "file_extension": ".py",
   "mimetype": "text/x-python",
   "name": "python",
   "nbconvert_exporter": "python",
   "pygments_lexer": "ipython3",
   "version": "3.8.8"
  }
 },
 "nbformat": 4,
 "nbformat_minor": 5
}
