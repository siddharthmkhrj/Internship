{
 "cells": [
  {
   "cell_type": "code",
   "execution_count": 2,
   "id": "c2ccfdff",
   "metadata": {},
   "outputs": [],
   "source": [
    "import pandas as pd\n",
    "import numpy as np\n",
    "import selenium \n",
    "from selenium import webdriver\n",
    "from bs4 import BeautifulSoup\n",
    "import requests\n",
    "import time\n",
    "from selenium.common.exceptions import NoSuchElementException"
   ]
  },
  {
   "cell_type": "markdown",
   "id": "f39777e0",
   "metadata": {},
   "source": [
    "# 1. Write a python program which searches all the product under a particular product from www.amazon.in. The product to be searched will be taken as input from user. For e.g. If user input is ‘guitar’. Then search for guitars."
   ]
  },
  {
   "cell_type": "code",
   "execution_count": 104,
   "id": "fb8b321c",
   "metadata": {},
   "outputs": [
    {
     "name": "stderr",
     "output_type": "stream",
     "text": [
      "<ipython-input-104-7aa744970a63>:2: DeprecationWarning: executable_path has been deprecated, please pass in a Service object\n",
      "  driver = webdriver.Chrome(r\"C:/Users/siddh/Downloads/chromedriver_win32/chromedriver.exe\")\n"
     ]
    }
   ],
   "source": [
    "url = 'https://www.amazon.in/'\n",
    "driver = webdriver.Chrome(r\"C:/Users/siddh/Downloads/chromedriver_win32/chromedriver.exe\")\n",
    "driver.get(url)\n",
    "driver.maximize_window()"
   ]
  },
  {
   "cell_type": "code",
   "execution_count": 105,
   "id": "856f817b",
   "metadata": {},
   "outputs": [
    {
     "name": "stdout",
     "output_type": "stream",
     "text": [
      "Enter the item name to be search :-  Television\n"
     ]
    }
   ],
   "source": [
    "item = input(\"Enter the item name to be search :-  \")"
   ]
  },
  {
   "cell_type": "code",
   "execution_count": 106,
   "id": "948fcf52",
   "metadata": {},
   "outputs": [
    {
     "name": "stderr",
     "output_type": "stream",
     "text": [
      "<ipython-input-106-22064372804b>:1: DeprecationWarning: find_element_by_* commands are deprecated. Please use find_element() instead\n",
      "  search_item = driver.find_element_by_xpath('/html/body/div[1]/header/div/div[1]/div[2]/div/form/div[2]/div[1]/input')\n",
      "<ipython-input-106-22064372804b>:3: DeprecationWarning: find_element_by_* commands are deprecated. Please use find_element() instead\n",
      "  search_button = driver.find_element_by_xpath(\"//input[@id = 'nav-search-submit-button']\")\n"
     ]
    }
   ],
   "source": [
    "search_item = driver.find_element_by_xpath('/html/body/div[1]/header/div/div[1]/div[2]/div/form/div[2]/div[1]/input')\n",
    "search_item.send_keys(item)\n",
    "\n",
    "search_button = driver.find_element_by_xpath(\"//input[@id = 'nav-search-submit-button']\")\n",
    "search_button.click()"
   ]
  },
  {
   "cell_type": "markdown",
   "id": "0775109f",
   "metadata": {},
   "source": [
    "# 2. In the above question, now scrape the following details of each product listed in first 3 pages of your search results and save it in a data frame and csv.\n",
    "\n",
    "# In case if any product has less than 3 pages in search results then scrape all the products available under that product name. Details to be scraped are: \n",
    "\n",
    "# \"Brand Name\", \"Name of the Product\", \"Price\", \"Return/Exchange\", \"Expected Delivery\", \"Availability\" and “Product URL”. In case, if any of the details are missing for any of the product then replace it by “-“."
   ]
  },
  {
   "cell_type": "code",
   "execution_count": 107,
   "id": "ed386198",
   "metadata": {},
   "outputs": [],
   "source": [
    "produrl = []"
   ]
  },
  {
   "cell_type": "code",
   "execution_count": 108,
   "id": "84f0177f",
   "metadata": {},
   "outputs": [
    {
     "name": "stderr",
     "output_type": "stream",
     "text": [
      "<ipython-input-108-51105795a73b>:1: DeprecationWarning: find_elements_by_* commands are deprecated. Please use find_elements() instead\n",
      "  produrl_tag = driver.find_elements_by_xpath(\"//a[@class = 'a-link-normal s-underline-text s-underline-link-text s-link-style a-text-normal']\")\n"
     ]
    }
   ],
   "source": [
    "produrl_tag = driver.find_elements_by_xpath(\"//a[@class = 'a-link-normal s-underline-text s-underline-link-text s-link-style a-text-normal']\")"
   ]
  },
  {
   "cell_type": "code",
   "execution_count": 109,
   "id": "73d8d019",
   "metadata": {},
   "outputs": [],
   "source": [
    "for i in produrl_tag:\n",
    "    try:\n",
    "        produrl.append(i.get_attribute(\"href\"))\n",
    "    except:\n",
    "        produrl.append('-')"
   ]
  },
  {
   "cell_type": "code",
   "execution_count": 111,
   "id": "f843a292",
   "metadata": {},
   "outputs": [
    {
     "name": "stderr",
     "output_type": "stream",
     "text": [
      "<ipython-input-111-d95b81885784>:6: DeprecationWarning: find_element_by_* commands are deprecated. Please use find_element() instead\n",
      "  nextbtn = driver.find_element_by_xpath(\"//li[@class = 'a-last']\")\n",
      "<ipython-input-111-d95b81885784>:9: DeprecationWarning: find_elements_by_* commands are deprecated. Please use find_elements() instead\n",
      "  produrl_tag = driver.find_elements_by_xpath(\"//a[@class = 'a-link-normal s-underline-text s-underline-link-text s-link-style a-text-normal']\")\n"
     ]
    }
   ],
   "source": [
    "import time\n",
    "\n",
    "n = 2\n",
    "\n",
    "while (n>0):\n",
    "    nextbtn = driver.find_element_by_xpath(\"//li[@class = 'a-last']\")\n",
    "    nextbtn.click()\n",
    "    time.sleep(3)\n",
    "    produrl_tag = driver.find_elements_by_xpath(\"//a[@class = 'a-link-normal s-underline-text s-underline-link-text s-link-style a-text-normal']\")\n",
    "    for u in produrl_tag:\n",
    "        produrl.append(u.get_attribute(\"href\"))\n",
    "    n=n-1"
   ]
  },
  {
   "cell_type": "code",
   "execution_count": 112,
   "id": "2eda5ab1",
   "metadata": {},
   "outputs": [],
   "source": [
    "Brand = []\n",
    "Product_Name = []\n",
    "Price = []\n",
    "Return_Exchange = []\n",
    "Expected_Delivery = []\n",
    "Availability = []\n",
    "Product_Url = []"
   ]
  },
  {
   "cell_type": "code",
   "execution_count": 113,
   "id": "8a77fd4b",
   "metadata": {},
   "outputs": [
    {
     "name": "stderr",
     "output_type": "stream",
     "text": [
      "<ipython-input-113-313343e98a8f>:5: DeprecationWarning: find_element_by_* commands are deprecated. Please use find_element() instead\n",
      "  brandtag = driver.find_element_by_xpath(\"//td[@class = 'a-size-base prodDetAttrValue']\")\n",
      "<ipython-input-113-313343e98a8f>:10: DeprecationWarning: find_element_by_* commands are deprecated. Please use find_element() instead\n",
      "  prodtag = driver.find_element_by_xpath(\"//span[@id = 'productTitle']\")\n",
      "<ipython-input-113-313343e98a8f>:15: DeprecationWarning: find_element_by_* commands are deprecated. Please use find_element() instead\n",
      "  pricetag = driver.find_element_by_xpath(\"//span[@class = 'a-price a-text-price a-size-medium apexPriceToPay']\")\n",
      "<ipython-input-113-313343e98a8f>:20: DeprecationWarning: find_element_by_* commands are deprecated. Please use find_element() instead\n",
      "  retexctag = driver.find_element_by_xpath('//*[@id=\"icon-farm-container\"]/div/div[1]/span/div[2]/a')\n",
      "<ipython-input-113-313343e98a8f>:25: DeprecationWarning: find_element_by_* commands are deprecated. Please use find_element() instead\n",
      "  exptdeltag = driver.find_element_by_xpath(\"//div[@id = 'ddmDeliveryMessage']\")\n",
      "<ipython-input-113-313343e98a8f>:30: DeprecationWarning: find_element_by_* commands are deprecated. Please use find_element() instead\n",
      "  availabltag = driver.find_element_by_xpath(\"//div[@id = 'availability']/span\")\n"
     ]
    }
   ],
   "source": [
    "for n in produrl:\n",
    "    driver.get(n)\n",
    "    time.sleep(2)\n",
    "    try:\n",
    "        brandtag = driver.find_element_by_xpath(\"//td[@class = 'a-size-base prodDetAttrValue']\")\n",
    "        Brand.append(brandtag.text)\n",
    "    except:\n",
    "        Brand.append('-')\n",
    "    try:\n",
    "        prodtag = driver.find_element_by_xpath(\"//span[@id = 'productTitle']\")\n",
    "        Product_Name.append(prodtag.text)\n",
    "    except:\n",
    "        Product_Name.append('-')\n",
    "    try:\n",
    "        pricetag = driver.find_element_by_xpath(\"//span[@class = 'a-price a-text-price a-size-medium apexPriceToPay']\")\n",
    "        Price.append(pricetag.text)\n",
    "    except:\n",
    "        Price.append('-')\n",
    "    try:\n",
    "        retexctag = driver.find_element_by_xpath('//*[@id=\"icon-farm-container\"]/div/div[1]/span/div[2]/a')\n",
    "        Return_Exchange.append(retexctag.text)\n",
    "    except:\n",
    "        Return_Exchange.append('-')\n",
    "    try:\n",
    "        exptdeltag = driver.find_element_by_xpath(\"//div[@id = 'ddmDeliveryMessage']\")\n",
    "        Expected_Delivery.append(exptdeltag.text)\n",
    "    except:\n",
    "        Expected_Delivery.append('-')\n",
    "    try:\n",
    "        availabltag = driver.find_element_by_xpath(\"//div[@id = 'availability']/span\")\n",
    "        Availability.append(availabltag.text)\n",
    "    except:\n",
    "        Availability.append('-')"
   ]
  },
  {
   "cell_type": "code",
   "execution_count": 114,
   "id": "50f2d8dd",
   "metadata": {},
   "outputs": [],
   "source": [
    "Television = {'Brand Name':Brand,'Product Name':Product_Name,'Price':Price,'Return & Exchange':Return_Exchange,'Exp Deleviry':Expected_Delivery,'Availability':Availability,'Product Url':produrl}\n",
    "\n",
    "Television = pd.DataFrame(Television)"
   ]
  },
  {
   "cell_type": "code",
   "execution_count": 115,
   "id": "5022c3bb",
   "metadata": {},
   "outputs": [
    {
     "data": {
      "text/html": [
       "<div>\n",
       "<style scoped>\n",
       "    .dataframe tbody tr th:only-of-type {\n",
       "        vertical-align: middle;\n",
       "    }\n",
       "\n",
       "    .dataframe tbody tr th {\n",
       "        vertical-align: top;\n",
       "    }\n",
       "\n",
       "    .dataframe thead th {\n",
       "        text-align: right;\n",
       "    }\n",
       "</style>\n",
       "<table border=\"1\" class=\"dataframe\">\n",
       "  <thead>\n",
       "    <tr style=\"text-align: right;\">\n",
       "      <th></th>\n",
       "      <th>Brand Name</th>\n",
       "      <th>Product Name</th>\n",
       "      <th>Price</th>\n",
       "      <th>Return &amp; Exchange</th>\n",
       "      <th>Exp Deleviry</th>\n",
       "      <th>Availability</th>\n",
       "      <th>Product Url</th>\n",
       "    </tr>\n",
       "  </thead>\n",
       "  <tbody>\n",
       "    <tr>\n",
       "      <th>0</th>\n",
       "      <td>Acer</td>\n",
       "      <td>Acer 108 cm (43 inches) Boundless series 4K Ul...</td>\n",
       "      <td>₹26,999.00</td>\n",
       "      <td>10 Days Replacement</td>\n",
       "      <td>Get it Monday, Dec 27, 7AM-9PM. Pick a conveni...</td>\n",
       "      <td>In stock.</td>\n",
       "      <td>https://www.amazon.in/gp/slredirect/picassoRed...</td>\n",
       "    </tr>\n",
       "    <tr>\n",
       "      <th>1</th>\n",
       "      <td>AmazonBasics</td>\n",
       "      <td>AmazonBasics 80cm (32 inch) HD Ready Smart LED...</td>\n",
       "      <td>₹14,999.00</td>\n",
       "      <td>10 Days Replacement</td>\n",
       "      <td>Get it Monday, Dec 27, 7AM-9PM. Pick a conveni...</td>\n",
       "      <td>In stock.</td>\n",
       "      <td>https://www.amazon.in/gp/slredirect/picassoRed...</td>\n",
       "    </tr>\n",
       "    <tr>\n",
       "      <th>2</th>\n",
       "      <td>MI</td>\n",
       "      <td>Mi 80 cm (32 inches) HD Ready Android Smart LE...</td>\n",
       "      <td>-</td>\n",
       "      <td>10 Days Replacement</td>\n",
       "      <td>FREE delivery</td>\n",
       "      <td>In stock.</td>\n",
       "      <td>https://www.amazon.in/Mi-inches-Ready-Android-...</td>\n",
       "    </tr>\n",
       "    <tr>\n",
       "      <th>3</th>\n",
       "      <td>EAirtec</td>\n",
       "      <td>eAirtec 61 cms (24 inches) HD Ready LED TV 24D...</td>\n",
       "      <td>₹6,999.00</td>\n",
       "      <td>10 Days Replacement</td>\n",
       "      <td>Get it Monday, Dec 27, 7AM-9PM. Pick a conveni...</td>\n",
       "      <td>In stock.</td>\n",
       "      <td>https://www.amazon.in/eAirtec-inches-Ready-24D...</td>\n",
       "    </tr>\n",
       "    <tr>\n",
       "      <th>4</th>\n",
       "      <td>OnePlus</td>\n",
       "      <td>OnePlus 108 cm (43 inches) Y Series Full HD LE...</td>\n",
       "      <td>₹25,999.00</td>\n",
       "      <td>10 Days Replacement</td>\n",
       "      <td>Get it Monday, Dec 27, 7AM-9PM. Pick a conveni...</td>\n",
       "      <td>In stock.</td>\n",
       "      <td>https://www.amazon.in/OnePlus-inches-Smart-And...</td>\n",
       "    </tr>\n",
       "    <tr>\n",
       "      <th>...</th>\n",
       "      <td>...</td>\n",
       "      <td>...</td>\n",
       "      <td>...</td>\n",
       "      <td>...</td>\n",
       "      <td>...</td>\n",
       "      <td>...</td>\n",
       "      <td>...</td>\n",
       "    </tr>\n",
       "    <tr>\n",
       "      <th>64</th>\n",
       "      <td>Sony</td>\n",
       "      <td>Sony Bravia 108 cm (43 inches) Full HD Smart L...</td>\n",
       "      <td>₹42,999.00</td>\n",
       "      <td>10 Days Replacement</td>\n",
       "      <td>Get it Monday, Dec 27, 7AM-9PM. Pick a conveni...</td>\n",
       "      <td>In stock.</td>\n",
       "      <td>https://www.amazon.in/Sony-Bravia-inches-Smart...</td>\n",
       "    </tr>\n",
       "    <tr>\n",
       "      <th>65</th>\n",
       "      <td>VU</td>\n",
       "      <td>Vu 139 cm (55 inches) 4K Ultra HD Smart Androi...</td>\n",
       "      <td>₹39,999.00</td>\n",
       "      <td>10 Days Replacement</td>\n",
       "      <td>Get it Monday, Dec 27, 7AM-9PM. Pick a conveni...</td>\n",
       "      <td>In stock.</td>\n",
       "      <td>https://www.amazon.in/inches-Ultra-Android-5-H...</td>\n",
       "    </tr>\n",
       "    <tr>\n",
       "      <th>66</th>\n",
       "      <td>TCL</td>\n",
       "      <td>TCL 108 cm (43 inches) 4K Ultra HD Certified A...</td>\n",
       "      <td>₹28,990.00</td>\n",
       "      <td>10 Days Replacement</td>\n",
       "      <td>Get it Monday, Dec 27, 7AM-9PM. Pick a conveni...</td>\n",
       "      <td>In stock.</td>\n",
       "      <td>https://www.amazon.in/TCL-inches-Certified-And...</td>\n",
       "    </tr>\n",
       "    <tr>\n",
       "      <th>67</th>\n",
       "      <td>TCL</td>\n",
       "      <td>TCL 79.9 cm (32 Inches) HD Ready Certified And...</td>\n",
       "      <td>₹16,490.00</td>\n",
       "      <td>10 Days Replacement</td>\n",
       "      <td>Get it Monday, Dec 27, 7AM-9PM. Pick a conveni...</td>\n",
       "      <td>In stock.</td>\n",
       "      <td>https://www.amazon.in/gp/slredirect/picassoRed...</td>\n",
       "    </tr>\n",
       "    <tr>\n",
       "      <th>68</th>\n",
       "      <td>TCL</td>\n",
       "      <td>TCL 80 cm (32 inches) HD Ready Certified Andro...</td>\n",
       "      <td>₹14,999.00</td>\n",
       "      <td>10 Days Replacement</td>\n",
       "      <td>Get it Monday, Dec 27, 7AM-9PM. Pick a conveni...</td>\n",
       "      <td>In stock.</td>\n",
       "      <td>https://www.amazon.in/gp/slredirect/picassoRed...</td>\n",
       "    </tr>\n",
       "  </tbody>\n",
       "</table>\n",
       "<p>69 rows × 7 columns</p>\n",
       "</div>"
      ],
      "text/plain": [
       "      Brand Name                                       Product Name  \\\n",
       "0           Acer  Acer 108 cm (43 inches) Boundless series 4K Ul...   \n",
       "1   AmazonBasics  AmazonBasics 80cm (32 inch) HD Ready Smart LED...   \n",
       "2             MI  Mi 80 cm (32 inches) HD Ready Android Smart LE...   \n",
       "3        EAirtec  eAirtec 61 cms (24 inches) HD Ready LED TV 24D...   \n",
       "4        OnePlus  OnePlus 108 cm (43 inches) Y Series Full HD LE...   \n",
       "..           ...                                                ...   \n",
       "64          Sony  Sony Bravia 108 cm (43 inches) Full HD Smart L...   \n",
       "65            VU  Vu 139 cm (55 inches) 4K Ultra HD Smart Androi...   \n",
       "66           TCL  TCL 108 cm (43 inches) 4K Ultra HD Certified A...   \n",
       "67           TCL  TCL 79.9 cm (32 Inches) HD Ready Certified And...   \n",
       "68           TCL  TCL 80 cm (32 inches) HD Ready Certified Andro...   \n",
       "\n",
       "         Price    Return & Exchange  \\\n",
       "0   ₹26,999.00  10 Days Replacement   \n",
       "1   ₹14,999.00  10 Days Replacement   \n",
       "2            -  10 Days Replacement   \n",
       "3    ₹6,999.00  10 Days Replacement   \n",
       "4   ₹25,999.00  10 Days Replacement   \n",
       "..         ...                  ...   \n",
       "64  ₹42,999.00  10 Days Replacement   \n",
       "65  ₹39,999.00  10 Days Replacement   \n",
       "66  ₹28,990.00  10 Days Replacement   \n",
       "67  ₹16,490.00  10 Days Replacement   \n",
       "68  ₹14,999.00  10 Days Replacement   \n",
       "\n",
       "                                         Exp Deleviry Availability  \\\n",
       "0   Get it Monday, Dec 27, 7AM-9PM. Pick a conveni...    In stock.   \n",
       "1   Get it Monday, Dec 27, 7AM-9PM. Pick a conveni...    In stock.   \n",
       "2                                       FREE delivery    In stock.   \n",
       "3   Get it Monday, Dec 27, 7AM-9PM. Pick a conveni...    In stock.   \n",
       "4   Get it Monday, Dec 27, 7AM-9PM. Pick a conveni...    In stock.   \n",
       "..                                                ...          ...   \n",
       "64  Get it Monday, Dec 27, 7AM-9PM. Pick a conveni...    In stock.   \n",
       "65  Get it Monday, Dec 27, 7AM-9PM. Pick a conveni...    In stock.   \n",
       "66  Get it Monday, Dec 27, 7AM-9PM. Pick a conveni...    In stock.   \n",
       "67  Get it Monday, Dec 27, 7AM-9PM. Pick a conveni...    In stock.   \n",
       "68  Get it Monday, Dec 27, 7AM-9PM. Pick a conveni...    In stock.   \n",
       "\n",
       "                                          Product Url  \n",
       "0   https://www.amazon.in/gp/slredirect/picassoRed...  \n",
       "1   https://www.amazon.in/gp/slredirect/picassoRed...  \n",
       "2   https://www.amazon.in/Mi-inches-Ready-Android-...  \n",
       "3   https://www.amazon.in/eAirtec-inches-Ready-24D...  \n",
       "4   https://www.amazon.in/OnePlus-inches-Smart-And...  \n",
       "..                                                ...  \n",
       "64  https://www.amazon.in/Sony-Bravia-inches-Smart...  \n",
       "65  https://www.amazon.in/inches-Ultra-Android-5-H...  \n",
       "66  https://www.amazon.in/TCL-inches-Certified-And...  \n",
       "67  https://www.amazon.in/gp/slredirect/picassoRed...  \n",
       "68  https://www.amazon.in/gp/slredirect/picassoRed...  \n",
       "\n",
       "[69 rows x 7 columns]"
      ]
     },
     "execution_count": 115,
     "metadata": {},
     "output_type": "execute_result"
    }
   ],
   "source": [
    "Television"
   ]
  },
  {
   "cell_type": "markdown",
   "id": "e7cd6b49",
   "metadata": {},
   "source": [
    "# 3. Write a python program to access the search bar and search button on images.google.com and scrape 10 images each for keywords ‘fruits’, ‘cars’ and ‘Machine Learning’, ‘Guitar’, ‘Cakes’."
   ]
  },
  {
   "cell_type": "code",
   "execution_count": 20,
   "id": "bf97e8e2",
   "metadata": {},
   "outputs": [
    {
     "name": "stderr",
     "output_type": "stream",
     "text": [
      "<ipython-input-20-75f71cf69a2e>:1: DeprecationWarning: executable_path has been deprecated, please pass in a Service object\n",
      "  driver = webdriver.Chrome(r\"C:/Users/siddh/Downloads/chromedriver_win32/chromedriver.exe\")\n"
     ]
    }
   ],
   "source": [
    "driver = webdriver.Chrome(r\"C:/Users/siddh/Downloads/chromedriver_win32/chromedriver.exe\")\n",
    "url = \"https://images.google.com/\"\n",
    "driver.get(url)\n",
    "driver.maximize_window()"
   ]
  },
  {
   "cell_type": "code",
   "execution_count": 21,
   "id": "42aee18f",
   "metadata": {},
   "outputs": [],
   "source": [
    "# Creating empty list and giving search item as list\n",
    "\n",
    "urls = []\n",
    "data = []\n",
    "search_item = [\"Fruits\",\"Cars\",\"Machine Learning\",\"Guitar\",\"Cakes\"]"
   ]
  },
  {
   "cell_type": "code",
   "execution_count": 28,
   "id": "19eb3ec6",
   "metadata": {},
   "outputs": [
    {
     "name": "stderr",
     "output_type": "stream",
     "text": [
      "<ipython-input-28-aa656e15518e>:4: DeprecationWarning: find_element_by_* commands are deprecated. Please use find_element() instead\n",
      "  search_bar = driver.find_element_by_tag_name(\"input\")\n",
      "<ipython-input-28-aa656e15518e>:6: DeprecationWarning: find_element_by_* commands are deprecated. Please use find_element() instead\n",
      "  search_bttn = driver.find_element_by_xpath(\"//button[@class = 'Tg7LZd']\").click()\n",
      "<ipython-input-28-aa656e15518e>:13: DeprecationWarning: find_elements_by_* commands are deprecated. Please use find_elements() instead\n",
      "  imges = driver.find_elements_by_xpath(\"//img[@class = 'rg_i Q4LuWd']\")\n"
     ]
    },
    {
     "name": "stdout",
     "output_type": "stream",
     "text": [
      "Downloading 0 of 10 images\n",
      "Downloading 1 of 10 images\n",
      "Downloading 2 of 10 images\n",
      "Downloading 3 of 10 images\n",
      "Downloading 4 of 10 images\n",
      "Downloading 5 of 10 images\n",
      "Downloading 6 of 10 images\n",
      "Downloading 7 of 10 images\n",
      "Downloading 8 of 10 images\n",
      "Downloading 9 of 10 images\n"
     ]
    }
   ],
   "source": [
    "for item in search_item:\n",
    "    driver.get(url)\n",
    "    time.sleep(4)\n",
    "    search_bar = driver.find_element_by_tag_name(\"input\")\n",
    "    search_bar.send_keys(str(item))\n",
    "    search_bttn = driver.find_element_by_xpath(\"//button[@class = 'Tg7LZd']\").click()\n",
    "    \n",
    "# Scrolling the web page to get more images\n",
    "    \n",
    "for _ in range(500):\n",
    "    driver.execute_script(\"window.scrollBy(0,20)\")\n",
    "    \n",
    "    imges = driver.find_elements_by_xpath(\"//img[@class = 'rg_i Q4LuWd']\")\n",
    "img_url = []\n",
    "    \n",
    "for image in imges:\n",
    "    source = image.get_attribute('src')\n",
    "    if source is not None:\n",
    "        if (source[0:4] =='http'):\n",
    "            img_url.append(source)\n",
    "\n",
    "for i in img_url[:10]:\n",
    "    urls.append(i)\n",
    "    \n",
    "for i in range(len(urls)):\n",
    "    if i >= 10:\n",
    "        break\n",
    "        \n",
    "    print(\"Downloading {0} of {1} images\".format(i,10))\n",
    "    response = requests.get(urls[i])\n",
    "        \n",
    "    file = open(r\"D:\\Flip Robo Tech Project\\Web Scrapping Project\\Web Scrapping 3rd Project\"+str(i)+\".jpg\",\"wb\")\n",
    "        \n",
    "    file.write(response.content)"
   ]
  },
  {
   "cell_type": "markdown",
   "id": "2c0f349f",
   "metadata": {},
   "source": [
    "# 4. Write a python program to search for a smartphone(e.g.: Oneplus Nord, pixel 4A, etc.) on www.flipkart.com and scrape following details for all the search results displayed on 1st page. Details to be scraped: “Brand Name”, “Smartphone name”, “Colour”, “RAM”, “Storage(ROM)”, “Primary Camera”, “Secondary Camera”, “Display Size”, “Battery Capacity”, “Price”, “Product URL”. Incase if any of the details is missing then replace it by “- “. Save your results in a dataframe and CSV.\n"
   ]
  },
  {
   "cell_type": "code",
   "execution_count": 5,
   "id": "a208aaeb",
   "metadata": {},
   "outputs": [
    {
     "name": "stderr",
     "output_type": "stream",
     "text": [
      "<ipython-input-5-3b1cf45075f4>:2: DeprecationWarning: executable_path has been deprecated, please pass in a Service object\n",
      "  driver = webdriver.Chrome(r\"C:/Users/siddh/Downloads/chromedriver_win32/chromedriver.exe\")\n",
      "<ipython-input-5-3b1cf45075f4>:8: DeprecationWarning: find_element_by_* commands are deprecated. Please use find_element() instead\n",
      "  close_button = driver.find_element_by_xpath(\"//button[@class = '_2KpZ6l _2doB4z']\")\n"
     ]
    }
   ],
   "source": [
    "url = 'https://www.flipkart.com/'\n",
    "driver = webdriver.Chrome(r\"C:/Users/siddh/Downloads/chromedriver_win32/chromedriver.exe\")\n",
    "driver.get(url)\n",
    "driver.maximize_window()\n",
    "\n",
    "#closing the login box\n",
    "\n",
    "close_button = driver.find_element_by_xpath(\"//button[@class = '_2KpZ6l _2doB4z']\")\n",
    "close_button.click()"
   ]
  },
  {
   "cell_type": "code",
   "execution_count": 6,
   "id": "8751f109",
   "metadata": {},
   "outputs": [
    {
     "name": "stdout",
     "output_type": "stream",
     "text": [
      "Enter the Product Name : samsung\n"
     ]
    }
   ],
   "source": [
    "prod_name = input(\"Enter the Product Name : \")"
   ]
  },
  {
   "cell_type": "code",
   "execution_count": 7,
   "id": "69c43ebd",
   "metadata": {},
   "outputs": [
    {
     "name": "stderr",
     "output_type": "stream",
     "text": [
      "<ipython-input-7-1379a56099a2>:1: DeprecationWarning: find_element_by_* commands are deprecated. Please use find_element() instead\n",
      "  search_bar = driver.find_element_by_xpath(\"//div[@class = '_3OO5Xc']//input\")\n",
      "<ipython-input-7-1379a56099a2>:4: DeprecationWarning: find_element_by_* commands are deprecated. Please use find_element() instead\n",
      "  search_bttn = driver.find_element_by_xpath(\"//button[@class = 'L0Z3Pu']\").click()\n"
     ]
    }
   ],
   "source": [
    "search_bar = driver.find_element_by_xpath(\"//div[@class = '_3OO5Xc']//input\")\n",
    "search_bar.send_keys(prod_name)\n",
    "\n",
    "search_bttn = driver.find_element_by_xpath(\"//button[@class = 'L0Z3Pu']\").click()"
   ]
  },
  {
   "cell_type": "code",
   "execution_count": 8,
   "id": "39a86563",
   "metadata": {},
   "outputs": [
    {
     "name": "stderr",
     "output_type": "stream",
     "text": [
      "<ipython-input-8-ac99b6abbdb3>:3: DeprecationWarning: find_elements_by_* commands are deprecated. Please use find_elements() instead\n",
      "  page1_url = driver.find_elements_by_xpath(\"//a[@class = '_1fQZEK']\")\n"
     ]
    }
   ],
   "source": [
    "page1 = []\n",
    "\n",
    "page1_url = driver.find_elements_by_xpath(\"//a[@class = '_1fQZEK']\")\n",
    "\n",
    "for url in page1_url:\n",
    "    page1.append(url.get_attribute(\"href\"))"
   ]
  },
  {
   "cell_type": "code",
   "execution_count": 9,
   "id": "9db1b214",
   "metadata": {},
   "outputs": [
    {
     "data": {
      "text/plain": [
       "24"
      ]
     },
     "execution_count": 9,
     "metadata": {},
     "output_type": "execute_result"
    }
   ],
   "source": [
    "len(page1)"
   ]
  },
  {
   "cell_type": "code",
   "execution_count": 106,
   "id": "2cb34b22",
   "metadata": {},
   "outputs": [],
   "source": [
    "Brand_Name = []\n",
    "Smartphone_Name = []\n",
    "Color = []\n",
    "RAM = []\n",
    "ROM = []\n",
    "Primary_Camera = []\n",
    "Secondary_Camera = []\n",
    "Display_Size = []\n",
    "Battery_Capacity = []\n",
    "Price = []"
   ]
  },
  {
   "cell_type": "code",
   "execution_count": 107,
   "id": "20cfb21f",
   "metadata": {},
   "outputs": [
    {
     "name": "stderr",
     "output_type": "stream",
     "text": [
      "<ipython-input-107-752112214ee0>:4: DeprecationWarning: find_element_by_* commands are deprecated. Please use find_element() instead\n",
      "  morebttn = driver.find_element_by_xpath(\"//button[@class = '_2KpZ6l _1FH0tX']\")\n",
      "<ipython-input-107-752112214ee0>:8: DeprecationWarning: find_element_by_* commands are deprecated. Please use find_element() instead\n",
      "  brandtag = driver.find_element_by_xpath(\"//span[@class = 'B_NuCI']\")\n",
      "<ipython-input-107-752112214ee0>:13: DeprecationWarning: find_element_by_* commands are deprecated. Please use find_element() instead\n",
      "  smartphtag = driver.find_element_by_xpath(\"//div[@class = '_3k-BhJ'][1]/table[1]/tbody/tr[3]/td[2]/ul/li\")\n",
      "<ipython-input-107-752112214ee0>:18: DeprecationWarning: find_element_by_* commands are deprecated. Please use find_element() instead\n",
      "  colortag = driver.find_element_by_xpath(\"//div[@class = '_3k-BhJ'][1]/table[1]/tbody/tr[4]/td[2]/ul/li\")\n",
      "<ipython-input-107-752112214ee0>:23: DeprecationWarning: find_element_by_* commands are deprecated. Please use find_element() instead\n",
      "  ram_tag = driver.find_element_by_xpath(\"//div[@class = '_3k-BhJ'][4]/table[1]/tbody/tr[2]/td[2]/ul/li\")\n",
      "<ipython-input-107-752112214ee0>:28: DeprecationWarning: find_element_by_* commands are deprecated. Please use find_element() instead\n",
      "  rom_tag = driver.find_element_by_xpath(\"//div[@class = '_3k-BhJ'][4]/table[1]/tbody/tr[1]/td[2]/ul/li\")\n",
      "<ipython-input-107-752112214ee0>:33: DeprecationWarning: find_element_by_* commands are deprecated. Please use find_element() instead\n",
      "  p_camera = driver.find_element_by_xpath(\"//div[@class = '_3k-BhJ'][5]/table[1]/tbody/tr[2]/td[2]/ul/li\")\n",
      "<ipython-input-107-752112214ee0>:38: DeprecationWarning: find_element_by_* commands are deprecated. Please use find_element() instead\n",
      "  s_camera = driver.find_element_by_xpath(\"//div[@class = '_3k-BhJ'][5]/table[1]/tbody/tr[5]/td[2]/ul/li\")\n",
      "<ipython-input-107-752112214ee0>:43: DeprecationWarning: find_element_by_* commands are deprecated. Please use find_element() instead\n",
      "  dtag = driver.find_element_by_xpath(\"//div[@class = '_3k-BhJ'][2]/table[1]/tbody/tr[1]/td[2]/ul/li\")\n",
      "<ipython-input-107-752112214ee0>:48: DeprecationWarning: find_element_by_* commands are deprecated. Please use find_element() instead\n",
      "  btag = driver.find_element_by_xpath(\"//div[@class = '_3k-BhJ'][10]/table[1]/tbody/tr[1]/td[2]/ul/li\")\n",
      "<ipython-input-107-752112214ee0>:53: DeprecationWarning: find_element_by_* commands are deprecated. Please use find_element() instead\n",
      "  pricetag = driver.find_element_by_xpath(\"//div[@class = '_30jeq3 _16Jk6d']\")\n"
     ]
    }
   ],
   "source": [
    "for i in page1:\n",
    "    driver.get(i)\n",
    "    time.sleep(3)\n",
    "    morebttn = driver.find_element_by_xpath(\"//button[@class = '_2KpZ6l _1FH0tX']\")\n",
    "    morebttn.click()\n",
    "    time.sleep(5)\n",
    "    try: \n",
    "        brandtag = driver.find_element_by_xpath(\"//span[@class = 'B_NuCI']\")\n",
    "        Brand_Name.append(brandtag.text.split()[0])\n",
    "    except:\n",
    "        Brand_Name.append('-')\n",
    "    try:\n",
    "        smartphtag = driver.find_element_by_xpath(\"//div[@class = '_3k-BhJ'][1]/table[1]/tbody/tr[3]/td[2]/ul/li\")\n",
    "        Smartphone_Name.append(smartphtag.text)\n",
    "    except:\n",
    "        Smartphone_Name.append('-')\n",
    "    try:\n",
    "        colortag = driver.find_element_by_xpath(\"//div[@class = '_3k-BhJ'][1]/table[1]/tbody/tr[4]/td[2]/ul/li\")\n",
    "        Color.append(colortag.text)\n",
    "    except:\n",
    "        Color.append('-')\n",
    "    try:\n",
    "        ram_tag = driver.find_element_by_xpath(\"//div[@class = '_3k-BhJ'][4]/table[1]/tbody/tr[2]/td[2]/ul/li\")\n",
    "        RAM.append(ram_tag.text)\n",
    "    except:\n",
    "        RAM.append('-')\n",
    "    try:\n",
    "        rom_tag = driver.find_element_by_xpath(\"//div[@class = '_3k-BhJ'][4]/table[1]/tbody/tr[1]/td[2]/ul/li\")\n",
    "        ROM.append(rom_tag.text)\n",
    "    except:\n",
    "        ROM.append('-')\n",
    "    try:\n",
    "        p_camera = driver.find_element_by_xpath(\"//div[@class = '_3k-BhJ'][5]/table[1]/tbody/tr[2]/td[2]/ul/li\")\n",
    "        Primary_Camera.append(p_camera.text)\n",
    "    except:\n",
    "        Primary_Camera.append('-')\n",
    "    try:\n",
    "        s_camera = driver.find_element_by_xpath(\"//div[@class = '_3k-BhJ'][5]/table[1]/tbody/tr[5]/td[2]/ul/li\")\n",
    "        Secondary_Camera.append(s_camera.text)\n",
    "    except:\n",
    "        Secondary_Camera.append('-')\n",
    "    try:\n",
    "        dtag = driver.find_element_by_xpath(\"//div[@class = '_3k-BhJ'][2]/table[1]/tbody/tr[1]/td[2]/ul/li\")\n",
    "        Display_Size.append(dtag.text)\n",
    "    except:\n",
    "        Display_Size.append('-')\n",
    "    try:\n",
    "        btag = driver.find_element_by_xpath(\"//div[@class = '_3k-BhJ'][10]/table[1]/tbody/tr[1]/td[2]/ul/li\")\n",
    "        Battery_Capacity.append(btag.text)\n",
    "    except:\n",
    "        Battery_Capacity.append('-')\n",
    "    try:\n",
    "        pricetag = driver.find_element_by_xpath(\"//div[@class = '_30jeq3 _16Jk6d']\")\n",
    "        Price.append(pricetag.text)\n",
    "    except:\n",
    "        Price.append('-')\n",
    "        \n",
    "        \n",
    "        "
   ]
  },
  {
   "cell_type": "code",
   "execution_count": 108,
   "id": "3f464362",
   "metadata": {},
   "outputs": [
    {
     "name": "stdout",
     "output_type": "stream",
     "text": [
      "24 24 24 24 24 24 24 24 24 24\n"
     ]
    }
   ],
   "source": [
    "print(len(Brand_Name),len(Smartphone_Name),len(Color),len(RAM),len(ROM),len(Primary_Camera),len(Secondary_Camera),len(Display_Size),len(Battery_Capacity),len(Price))"
   ]
  },
  {
   "cell_type": "code",
   "execution_count": 109,
   "id": "773c6cf3",
   "metadata": {},
   "outputs": [],
   "source": [
    "Smart_phone = {\"Brand Name\": Brand_Name,\"Smartphone Name\":Smartphone_Name,\"Color\":Color,\"RAM\":RAM,\"Internal Storage(ROM)\":ROM,\"Primary Camera\":Primary_Camera,\"Secondary Camera\":Secondary_Camera,\"Display Size\":Display_Size,\"Battery Capacity\":Battery_Capacity,\"Product Price\":Price}"
   ]
  },
  {
   "cell_type": "code",
   "execution_count": 110,
   "id": "35ebc725",
   "metadata": {},
   "outputs": [],
   "source": [
    "phone = pd.DataFrame(Smart_phone)\n",
    "phone.reset_index(drop = True, inplace = True)\n",
    "phone.index+=1"
   ]
  },
  {
   "cell_type": "code",
   "execution_count": 111,
   "id": "17965133",
   "metadata": {},
   "outputs": [
    {
     "data": {
      "text/html": [
       "<div>\n",
       "<style scoped>\n",
       "    .dataframe tbody tr th:only-of-type {\n",
       "        vertical-align: middle;\n",
       "    }\n",
       "\n",
       "    .dataframe tbody tr th {\n",
       "        vertical-align: top;\n",
       "    }\n",
       "\n",
       "    .dataframe thead th {\n",
       "        text-align: right;\n",
       "    }\n",
       "</style>\n",
       "<table border=\"1\" class=\"dataframe\">\n",
       "  <thead>\n",
       "    <tr style=\"text-align: right;\">\n",
       "      <th></th>\n",
       "      <th>Brand Name</th>\n",
       "      <th>Smartphone Name</th>\n",
       "      <th>Color</th>\n",
       "      <th>RAM</th>\n",
       "      <th>Internal Storage(ROM)</th>\n",
       "      <th>Primary Camera</th>\n",
       "      <th>Secondary Camera</th>\n",
       "      <th>Display Size</th>\n",
       "      <th>Battery Capacity</th>\n",
       "      <th>Product Price</th>\n",
       "    </tr>\n",
       "  </thead>\n",
       "  <tbody>\n",
       "    <tr>\n",
       "      <th>1</th>\n",
       "      <td>SAMSUNG</td>\n",
       "      <td>Galaxy F22</td>\n",
       "      <td>Denim Blue</td>\n",
       "      <td>6 GB</td>\n",
       "      <td>128 GB</td>\n",
       "      <td>48MP + 8MP + 2MP + 2MP</td>\n",
       "      <td>13MP Front Camera</td>\n",
       "      <td>16.26 cm (6.4 inch)</td>\n",
       "      <td>6000 mAh</td>\n",
       "      <td>₹14,999</td>\n",
       "    </tr>\n",
       "    <tr>\n",
       "      <th>2</th>\n",
       "      <td>SAMSUNG</td>\n",
       "      <td>Galaxy F12</td>\n",
       "      <td>Sky Blue</td>\n",
       "      <td>4 GB</td>\n",
       "      <td>64 GB</td>\n",
       "      <td>48MP + 5MP + 2MP + 2MP</td>\n",
       "      <td>8MP Front Camera</td>\n",
       "      <td>16.55 cm (6.515 inch)</td>\n",
       "      <td>6000 mAh</td>\n",
       "      <td>₹11,499</td>\n",
       "    </tr>\n",
       "    <tr>\n",
       "      <th>3</th>\n",
       "      <td>SAMSUNG</td>\n",
       "      <td>Galaxy F22</td>\n",
       "      <td>Denim Black</td>\n",
       "      <td>6 GB</td>\n",
       "      <td>128 GB</td>\n",
       "      <td>48MP + 8MP + 2MP + 2MP</td>\n",
       "      <td>13MP Front Camera</td>\n",
       "      <td>16.26 cm (6.4 inch)</td>\n",
       "      <td>6000 mAh</td>\n",
       "      <td>₹14,999</td>\n",
       "    </tr>\n",
       "    <tr>\n",
       "      <th>4</th>\n",
       "      <td>SAMSUNG</td>\n",
       "      <td>Galaxy F12</td>\n",
       "      <td>Sea Green</td>\n",
       "      <td>4 GB</td>\n",
       "      <td>64 GB</td>\n",
       "      <td>48MP + 5MP + 2MP + 2MP</td>\n",
       "      <td>8MP Front Camera</td>\n",
       "      <td>16.55 cm (6.515 inch)</td>\n",
       "      <td>6000 mAh</td>\n",
       "      <td>₹11,499</td>\n",
       "    </tr>\n",
       "    <tr>\n",
       "      <th>5</th>\n",
       "      <td>SAMSUNG</td>\n",
       "      <td>Galaxy F12</td>\n",
       "      <td>Celestial Black</td>\n",
       "      <td>4 GB</td>\n",
       "      <td>64 GB</td>\n",
       "      <td>48MP + 5MP + 2MP + 2MP</td>\n",
       "      <td>8MP Front Camera</td>\n",
       "      <td>16.55 cm (6.515 inch)</td>\n",
       "      <td>6000 mAh</td>\n",
       "      <td>₹11,499</td>\n",
       "    </tr>\n",
       "    <tr>\n",
       "      <th>6</th>\n",
       "      <td>SAMSUNG</td>\n",
       "      <td>Galaxy F22</td>\n",
       "      <td>Denim Blue</td>\n",
       "      <td>4 GB</td>\n",
       "      <td>64 GB</td>\n",
       "      <td>48MP + 8MP + 2MP + 2MP</td>\n",
       "      <td>13MP Front Camera</td>\n",
       "      <td>16.26 cm (6.4 inch)</td>\n",
       "      <td>6000 mAh</td>\n",
       "      <td>₹12,999</td>\n",
       "    </tr>\n",
       "    <tr>\n",
       "      <th>7</th>\n",
       "      <td>SAMSUNG</td>\n",
       "      <td>Galaxy M12</td>\n",
       "      <td>Black</td>\n",
       "      <td>4 GB</td>\n",
       "      <td>64 GB</td>\n",
       "      <td>Primary Camera</td>\n",
       "      <td>-</td>\n",
       "      <td>16.51 cm (6.5 inch)</td>\n",
       "      <td>-</td>\n",
       "      <td>₹11,161</td>\n",
       "    </tr>\n",
       "    <tr>\n",
       "      <th>8</th>\n",
       "      <td>SAMSUNG</td>\n",
       "      <td>Galaxy F22</td>\n",
       "      <td>Denim Black</td>\n",
       "      <td>4 GB</td>\n",
       "      <td>64 GB</td>\n",
       "      <td>48MP + 8MP + 2MP + 2MP</td>\n",
       "      <td>13MP Front Camera</td>\n",
       "      <td>16.26 cm (6.4 inch)</td>\n",
       "      <td>6000 mAh</td>\n",
       "      <td>₹12,999</td>\n",
       "    </tr>\n",
       "    <tr>\n",
       "      <th>9</th>\n",
       "      <td>SAMSUNG</td>\n",
       "      <td>M32 5G</td>\n",
       "      <td>Slate Black</td>\n",
       "      <td>6 GB</td>\n",
       "      <td>128 GB</td>\n",
       "      <td>48MP + 8MP + 5MP + 2MP</td>\n",
       "      <td>13MP Front Camera</td>\n",
       "      <td>16.51 cm (6.5 inch)</td>\n",
       "      <td>1 Year Warranty Provided by the Manufacturer f...</td>\n",
       "      <td>₹19,480</td>\n",
       "    </tr>\n",
       "    <tr>\n",
       "      <th>10</th>\n",
       "      <td>SAMSUNG</td>\n",
       "      <td>Galaxy F12</td>\n",
       "      <td>Sea Green</td>\n",
       "      <td>4 GB</td>\n",
       "      <td>128 GB</td>\n",
       "      <td>48MP + 5MP + 2MP + 2MP</td>\n",
       "      <td>8MP Front Camera</td>\n",
       "      <td>16.55 cm (6.515 inch)</td>\n",
       "      <td>6000 mAh</td>\n",
       "      <td>₹12,499</td>\n",
       "    </tr>\n",
       "    <tr>\n",
       "      <th>11</th>\n",
       "      <td>SAMSUNG</td>\n",
       "      <td>Galaxy F12</td>\n",
       "      <td>Sky Blue</td>\n",
       "      <td>4 GB</td>\n",
       "      <td>128 GB</td>\n",
       "      <td>48MP + 5MP + 2MP + 2MP</td>\n",
       "      <td>8MP Front Camera</td>\n",
       "      <td>16.55 cm (6.515 inch)</td>\n",
       "      <td>6000 mAh</td>\n",
       "      <td>₹12,499</td>\n",
       "    </tr>\n",
       "    <tr>\n",
       "      <th>12</th>\n",
       "      <td>SAMSUNG</td>\n",
       "      <td>Galaxy F12</td>\n",
       "      <td>Celestial Black</td>\n",
       "      <td>4 GB</td>\n",
       "      <td>128 GB</td>\n",
       "      <td>48MP + 5MP + 2MP + 2MP</td>\n",
       "      <td>8MP Front Camera</td>\n",
       "      <td>16.55 cm (6.515 inch)</td>\n",
       "      <td>6000 mAh</td>\n",
       "      <td>₹12,499</td>\n",
       "    </tr>\n",
       "    <tr>\n",
       "      <th>13</th>\n",
       "      <td>SAMSUNG</td>\n",
       "      <td>Galaxy M32 5G</td>\n",
       "      <td>Sky Blue</td>\n",
       "      <td>8 GB</td>\n",
       "      <td>128 GB</td>\n",
       "      <td>48MP + 8MP + 5MP + 2MP</td>\n",
       "      <td>13MP Front Camera</td>\n",
       "      <td>16.51 cm (6.5 inch)</td>\n",
       "      <td>1 Year Warranty Provided by the Manufacturer f...</td>\n",
       "      <td>₹21,569</td>\n",
       "    </tr>\n",
       "    <tr>\n",
       "      <th>14</th>\n",
       "      <td>SAMSUNG</td>\n",
       "      <td>Galaxy M32</td>\n",
       "      <td>Light Blue</td>\n",
       "      <td>6 GB</td>\n",
       "      <td>128 GB</td>\n",
       "      <td>64MP + 8MP + 2MP + 2MP</td>\n",
       "      <td>20MP Front Camera</td>\n",
       "      <td>16.26 cm (6.4 inch)</td>\n",
       "      <td>74 mm</td>\n",
       "      <td>₹17,899</td>\n",
       "    </tr>\n",
       "    <tr>\n",
       "      <th>15</th>\n",
       "      <td>SAMSUNG</td>\n",
       "      <td>Galaxy M12</td>\n",
       "      <td>Black</td>\n",
       "      <td>6 GB</td>\n",
       "      <td>128 GB</td>\n",
       "      <td>Primary Camera</td>\n",
       "      <td>-</td>\n",
       "      <td>16.51 cm (6.5 inch)</td>\n",
       "      <td>-</td>\n",
       "      <td>₹14,166</td>\n",
       "    </tr>\n",
       "    <tr>\n",
       "      <th>16</th>\n",
       "      <td>SAMSUNG</td>\n",
       "      <td>Galaxy A03 Core</td>\n",
       "      <td>Blue</td>\n",
       "      <td>2 GB</td>\n",
       "      <td>32 GB</td>\n",
       "      <td>8MP Rear Camera</td>\n",
       "      <td>5MP Front Camera</td>\n",
       "      <td>16.51 cm (6.5 inch)</td>\n",
       "      <td>5000 mAh</td>\n",
       "      <td>₹7,999</td>\n",
       "    </tr>\n",
       "    <tr>\n",
       "      <th>17</th>\n",
       "      <td>SAMSUNG</td>\n",
       "      <td>Galaxy A70s</td>\n",
       "      <td>Prism Crush White</td>\n",
       "      <td>8 GB</td>\n",
       "      <td>128 GB</td>\n",
       "      <td>64MP + 5MP + 8MP</td>\n",
       "      <td>32MP Front Camera</td>\n",
       "      <td>17.02 cm (6.7 inch)</td>\n",
       "      <td>Brand Warranty of 1 Year Available for Mobile ...</td>\n",
       "      <td>₹19,999</td>\n",
       "    </tr>\n",
       "    <tr>\n",
       "      <th>18</th>\n",
       "      <td>SAMSUNG</td>\n",
       "      <td>Galaxy M32</td>\n",
       "      <td>Black</td>\n",
       "      <td>6 GB</td>\n",
       "      <td>128 GB</td>\n",
       "      <td>64MP + 8MP + 2MP + 2MP</td>\n",
       "      <td>20MP Front Camera</td>\n",
       "      <td>16.26 cm (6.4 inch)</td>\n",
       "      <td>74 mm</td>\n",
       "      <td>₹17,785</td>\n",
       "    </tr>\n",
       "    <tr>\n",
       "      <th>19</th>\n",
       "      <td>SAMSUNG</td>\n",
       "      <td>Galaxy A03 Core</td>\n",
       "      <td>Black</td>\n",
       "      <td>2 GB</td>\n",
       "      <td>32 GB</td>\n",
       "      <td>8MP Rear Camera</td>\n",
       "      <td>5MP Front Camera</td>\n",
       "      <td>16.51 cm (6.5 inch)</td>\n",
       "      <td>5000 mAh</td>\n",
       "      <td>₹7,999</td>\n",
       "    </tr>\n",
       "    <tr>\n",
       "      <th>20</th>\n",
       "      <td>SAMSUNG</td>\n",
       "      <td>M21 2021 Edition</td>\n",
       "      <td>Charcoal Black</td>\n",
       "      <td>4 GB</td>\n",
       "      <td>64 GB</td>\n",
       "      <td>Primary Camera</td>\n",
       "      <td>-</td>\n",
       "      <td>16.26 cm (6.4 inch)</td>\n",
       "      <td>-</td>\n",
       "      <td>₹13,624</td>\n",
       "    </tr>\n",
       "    <tr>\n",
       "      <th>21</th>\n",
       "      <td>SAMSUNG</td>\n",
       "      <td>Galaxy A52</td>\n",
       "      <td>Awesome Black</td>\n",
       "      <td>6 GB</td>\n",
       "      <td>128 GB</td>\n",
       "      <td>64MP + 12MP + 5MP + 5MP</td>\n",
       "      <td>32MP Front Camera</td>\n",
       "      <td>16.51 cm (6.5 inch)</td>\n",
       "      <td>75.1 mm</td>\n",
       "      <td>₹26,792</td>\n",
       "    </tr>\n",
       "    <tr>\n",
       "      <th>22</th>\n",
       "      <td>SAMSUNG</td>\n",
       "      <td>Galaxy A52s 5G</td>\n",
       "      <td>Awesome Mint</td>\n",
       "      <td>8 GB</td>\n",
       "      <td>128 GB</td>\n",
       "      <td>Primary Camera</td>\n",
       "      <td>-</td>\n",
       "      <td>16.51 cm (6.5 inch)</td>\n",
       "      <td>-</td>\n",
       "      <td>₹32,899</td>\n",
       "    </tr>\n",
       "    <tr>\n",
       "      <th>23</th>\n",
       "      <td>SAMSUNG</td>\n",
       "      <td>Galaxy M12</td>\n",
       "      <td>Blue</td>\n",
       "      <td>6 GB</td>\n",
       "      <td>128 GB</td>\n",
       "      <td>Primary Camera</td>\n",
       "      <td>-</td>\n",
       "      <td>16.51 cm (6.5 inch)</td>\n",
       "      <td>-</td>\n",
       "      <td>₹13,760</td>\n",
       "    </tr>\n",
       "    <tr>\n",
       "      <th>24</th>\n",
       "      <td>SAMSUNG</td>\n",
       "      <td>Metro 313 Dual Sim</td>\n",
       "      <td>Black</td>\n",
       "      <td>10 MB</td>\n",
       "      <td>2 MB</td>\n",
       "      <td>0.3MP Rear Camera</td>\n",
       "      <td>-</td>\n",
       "      <td>5.08 cm (2 inch)</td>\n",
       "      <td>1000 mAh</td>\n",
       "      <td>₹2,580</td>\n",
       "    </tr>\n",
       "  </tbody>\n",
       "</table>\n",
       "</div>"
      ],
      "text/plain": [
       "   Brand Name     Smartphone Name              Color    RAM  \\\n",
       "1     SAMSUNG          Galaxy F22         Denim Blue   6 GB   \n",
       "2     SAMSUNG          Galaxy F12           Sky Blue   4 GB   \n",
       "3     SAMSUNG          Galaxy F22        Denim Black   6 GB   \n",
       "4     SAMSUNG          Galaxy F12          Sea Green   4 GB   \n",
       "5     SAMSUNG          Galaxy F12    Celestial Black   4 GB   \n",
       "6     SAMSUNG          Galaxy F22         Denim Blue   4 GB   \n",
       "7     SAMSUNG          Galaxy M12              Black   4 GB   \n",
       "8     SAMSUNG          Galaxy F22        Denim Black   4 GB   \n",
       "9     SAMSUNG              M32 5G        Slate Black   6 GB   \n",
       "10    SAMSUNG          Galaxy F12          Sea Green   4 GB   \n",
       "11    SAMSUNG          Galaxy F12           Sky Blue   4 GB   \n",
       "12    SAMSUNG          Galaxy F12    Celestial Black   4 GB   \n",
       "13    SAMSUNG       Galaxy M32 5G           Sky Blue   8 GB   \n",
       "14    SAMSUNG          Galaxy M32         Light Blue   6 GB   \n",
       "15    SAMSUNG          Galaxy M12              Black   6 GB   \n",
       "16    SAMSUNG     Galaxy A03 Core               Blue   2 GB   \n",
       "17    SAMSUNG         Galaxy A70s  Prism Crush White   8 GB   \n",
       "18    SAMSUNG          Galaxy M32              Black   6 GB   \n",
       "19    SAMSUNG     Galaxy A03 Core              Black   2 GB   \n",
       "20    SAMSUNG    M21 2021 Edition     Charcoal Black   4 GB   \n",
       "21    SAMSUNG          Galaxy A52      Awesome Black   6 GB   \n",
       "22    SAMSUNG      Galaxy A52s 5G       Awesome Mint   8 GB   \n",
       "23    SAMSUNG          Galaxy M12               Blue   6 GB   \n",
       "24    SAMSUNG  Metro 313 Dual Sim              Black  10 MB   \n",
       "\n",
       "   Internal Storage(ROM)           Primary Camera   Secondary Camera  \\\n",
       "1                 128 GB   48MP + 8MP + 2MP + 2MP  13MP Front Camera   \n",
       "2                  64 GB   48MP + 5MP + 2MP + 2MP   8MP Front Camera   \n",
       "3                 128 GB   48MP + 8MP + 2MP + 2MP  13MP Front Camera   \n",
       "4                  64 GB   48MP + 5MP + 2MP + 2MP   8MP Front Camera   \n",
       "5                  64 GB   48MP + 5MP + 2MP + 2MP   8MP Front Camera   \n",
       "6                  64 GB   48MP + 8MP + 2MP + 2MP  13MP Front Camera   \n",
       "7                  64 GB           Primary Camera                  -   \n",
       "8                  64 GB   48MP + 8MP + 2MP + 2MP  13MP Front Camera   \n",
       "9                 128 GB   48MP + 8MP + 5MP + 2MP  13MP Front Camera   \n",
       "10                128 GB   48MP + 5MP + 2MP + 2MP   8MP Front Camera   \n",
       "11                128 GB   48MP + 5MP + 2MP + 2MP   8MP Front Camera   \n",
       "12                128 GB   48MP + 5MP + 2MP + 2MP   8MP Front Camera   \n",
       "13                128 GB   48MP + 8MP + 5MP + 2MP  13MP Front Camera   \n",
       "14                128 GB   64MP + 8MP + 2MP + 2MP  20MP Front Camera   \n",
       "15                128 GB           Primary Camera                  -   \n",
       "16                 32 GB          8MP Rear Camera   5MP Front Camera   \n",
       "17                128 GB         64MP + 5MP + 8MP  32MP Front Camera   \n",
       "18                128 GB   64MP + 8MP + 2MP + 2MP  20MP Front Camera   \n",
       "19                 32 GB          8MP Rear Camera   5MP Front Camera   \n",
       "20                 64 GB           Primary Camera                  -   \n",
       "21                128 GB  64MP + 12MP + 5MP + 5MP  32MP Front Camera   \n",
       "22                128 GB           Primary Camera                  -   \n",
       "23                128 GB           Primary Camera                  -   \n",
       "24                  2 MB        0.3MP Rear Camera                  -   \n",
       "\n",
       "             Display Size                                   Battery Capacity  \\\n",
       "1     16.26 cm (6.4 inch)                                           6000 mAh   \n",
       "2   16.55 cm (6.515 inch)                                           6000 mAh   \n",
       "3     16.26 cm (6.4 inch)                                           6000 mAh   \n",
       "4   16.55 cm (6.515 inch)                                           6000 mAh   \n",
       "5   16.55 cm (6.515 inch)                                           6000 mAh   \n",
       "6     16.26 cm (6.4 inch)                                           6000 mAh   \n",
       "7     16.51 cm (6.5 inch)                                                  -   \n",
       "8     16.26 cm (6.4 inch)                                           6000 mAh   \n",
       "9     16.51 cm (6.5 inch)  1 Year Warranty Provided by the Manufacturer f...   \n",
       "10  16.55 cm (6.515 inch)                                           6000 mAh   \n",
       "11  16.55 cm (6.515 inch)                                           6000 mAh   \n",
       "12  16.55 cm (6.515 inch)                                           6000 mAh   \n",
       "13    16.51 cm (6.5 inch)  1 Year Warranty Provided by the Manufacturer f...   \n",
       "14    16.26 cm (6.4 inch)                                              74 mm   \n",
       "15    16.51 cm (6.5 inch)                                                  -   \n",
       "16    16.51 cm (6.5 inch)                                           5000 mAh   \n",
       "17    17.02 cm (6.7 inch)  Brand Warranty of 1 Year Available for Mobile ...   \n",
       "18    16.26 cm (6.4 inch)                                              74 mm   \n",
       "19    16.51 cm (6.5 inch)                                           5000 mAh   \n",
       "20    16.26 cm (6.4 inch)                                                  -   \n",
       "21    16.51 cm (6.5 inch)                                            75.1 mm   \n",
       "22    16.51 cm (6.5 inch)                                                  -   \n",
       "23    16.51 cm (6.5 inch)                                                  -   \n",
       "24       5.08 cm (2 inch)                                           1000 mAh   \n",
       "\n",
       "   Product Price  \n",
       "1        ₹14,999  \n",
       "2        ₹11,499  \n",
       "3        ₹14,999  \n",
       "4        ₹11,499  \n",
       "5        ₹11,499  \n",
       "6        ₹12,999  \n",
       "7        ₹11,161  \n",
       "8        ₹12,999  \n",
       "9        ₹19,480  \n",
       "10       ₹12,499  \n",
       "11       ₹12,499  \n",
       "12       ₹12,499  \n",
       "13       ₹21,569  \n",
       "14       ₹17,899  \n",
       "15       ₹14,166  \n",
       "16        ₹7,999  \n",
       "17       ₹19,999  \n",
       "18       ₹17,785  \n",
       "19        ₹7,999  \n",
       "20       ₹13,624  \n",
       "21       ₹26,792  \n",
       "22       ₹32,899  \n",
       "23       ₹13,760  \n",
       "24        ₹2,580  "
      ]
     },
     "execution_count": 111,
     "metadata": {},
     "output_type": "execute_result"
    }
   ],
   "source": [
    "phone"
   ]
  },
  {
   "cell_type": "code",
   "execution_count": 112,
   "id": "dca00bff",
   "metadata": {},
   "outputs": [],
   "source": [
    "# saving file as csv\n",
    "\n",
    "phone.to_csv('FlipkartSmartphone.csv')"
   ]
  },
  {
   "cell_type": "markdown",
   "id": "76c53d47",
   "metadata": {},
   "source": [
    "# 5.Write a program to scrap geospatial coordinates (latitude, longitude) of a city searched on google maps.\n"
   ]
  },
  {
   "cell_type": "code",
   "execution_count": 118,
   "id": "e363355b",
   "metadata": {},
   "outputs": [
    {
     "name": "stderr",
     "output_type": "stream",
     "text": [
      "<ipython-input-118-d83d95c30253>:1: DeprecationWarning: executable_path has been deprecated, please pass in a Service object\n",
      "  driver = webdriver.Chrome(r\"C:/Users/siddh/Downloads/chromedriver_win32/chromedriver.exe\")\n"
     ]
    }
   ],
   "source": [
    "driver = webdriver.Chrome(r\"C:/Users/siddh/Downloads/chromedriver_win32/chromedriver.exe\")\n",
    "driver.get('https://maps.google.com/')\n",
    "driver.maximize_window()"
   ]
  },
  {
   "cell_type": "code",
   "execution_count": 119,
   "id": "6501461f",
   "metadata": {},
   "outputs": [
    {
     "name": "stdout",
     "output_type": "stream",
     "text": [
      "Enter the city name : Faridabad\n"
     ]
    }
   ],
   "source": [
    "city = input(\"Enter the city name : \")"
   ]
  },
  {
   "cell_type": "code",
   "execution_count": 120,
   "id": "d02d2fc5",
   "metadata": {},
   "outputs": [
    {
     "name": "stderr",
     "output_type": "stream",
     "text": [
      "<ipython-input-120-7022478a36ae>:1: DeprecationWarning: find_element_by_* commands are deprecated. Please use find_element() instead\n",
      "  search_city = driver.find_element_by_xpath(\"//input[@class = 'tactile-searchbox-input']\")\n",
      "<ipython-input-120-7022478a36ae>:3: DeprecationWarning: find_element_by_* commands are deprecated. Please use find_element() instead\n",
      "  search_bttn = driver.find_element_by_xpath(\"//button[@class = 'nhb85d-BIqFsb']\").click()\n"
     ]
    }
   ],
   "source": [
    "search_city = driver.find_element_by_xpath(\"//input[@class = 'tactile-searchbox-input']\")\n",
    "search_city.send_keys(city)\n",
    "search_bttn = driver.find_element_by_xpath(\"//button[@class = 'nhb85d-BIqFsb']\").click()"
   ]
  },
  {
   "cell_type": "code",
   "execution_count": 123,
   "id": "351a7c5e",
   "metadata": {},
   "outputs": [
    {
     "name": "stdout",
     "output_type": "stream",
     "text": [
      "Latitude :: 28.4020698\n",
      "Longitude :: 77.178988\n"
     ]
    }
   ],
   "source": [
    "current_url = driver.current_url\n",
    "\n",
    "value = current_url.split(\"@\")[1]\n",
    "\n",
    "v1 = value.split(\",\",2)\n",
    "\n",
    "print(\"Latitude ::\",v1[0])\n",
    "print(\"Longitude ::\",v1[1])"
   ]
  },
  {
   "cell_type": "markdown",
   "id": "2e7b409d",
   "metadata": {},
   "source": [
    "# 6. Write a program to scrap details of all the funding deals for second quarter (i.e Jan 21 – March 21) from trak.in."
   ]
  },
  {
   "cell_type": "code",
   "execution_count": 207,
   "id": "c9224917",
   "metadata": {},
   "outputs": [
    {
     "name": "stderr",
     "output_type": "stream",
     "text": [
      "<ipython-input-207-c01310dfe16f>:1: DeprecationWarning: executable_path has been deprecated, please pass in a Service object\n",
      "  driver = webdriver.Chrome(r\"C:/Users/siddh/Downloads/chromedriver_win32/chromedriver.exe\")\n"
     ]
    }
   ],
   "source": [
    "driver = webdriver.Chrome(r\"C:/Users/siddh/Downloads/chromedriver_win32/chromedriver.exe\")\n",
    "driver.get('https://trak.in')\n",
    "driver.maximize_window()"
   ]
  },
  {
   "cell_type": "code",
   "execution_count": 208,
   "id": "0b20ad89",
   "metadata": {},
   "outputs": [
    {
     "name": "stderr",
     "output_type": "stream",
     "text": [
      "<ipython-input-208-64bcbf42b098>:1: DeprecationWarning: find_element_by_* commands are deprecated. Please use find_element() instead\n",
      "  fun_deals = driver.find_element_by_xpath('/html/body/div[1]/header/div[2]/div/div/div/div/nav/ul/li[9]/a').get_attribute('href')\n"
     ]
    }
   ],
   "source": [
    "fun_deals = driver.find_element_by_xpath('/html/body/div[1]/header/div[2]/div/div/div/div/nav/ul/li[9]/a').get_attribute('href')\n",
    "driver.get(fun_deals)"
   ]
  },
  {
   "cell_type": "code",
   "execution_count": 209,
   "id": "33f67eb3",
   "metadata": {},
   "outputs": [
    {
     "data": {
      "text/plain": [
       "'https://trak.in/india-startup-funding-investment-2015/'"
      ]
     },
     "execution_count": 209,
     "metadata": {},
     "output_type": "execute_result"
    }
   ],
   "source": [
    "driver.current_url"
   ]
  },
  {
   "cell_type": "code",
   "execution_count": 210,
   "id": "93e26c1f",
   "metadata": {},
   "outputs": [],
   "source": [
    "Date = []\n",
    "Name = []\n",
    "Vertical = []\n",
    "Sub_Vertical = []\n",
    "Location = []\n",
    "Investor_Name = []\n",
    "Type = []\n",
    "Money = []"
   ]
  },
  {
   "cell_type": "markdown",
   "id": "210d191b",
   "metadata": {},
   "source": [
    "# Data from Jan,21 to March,21 can be found in the table - tablepress-54,tablepress-55, tablepress-56"
   ]
  },
  {
   "cell_type": "code",
   "execution_count": 211,
   "id": "eafefcc6",
   "metadata": {},
   "outputs": [
    {
     "name": "stderr",
     "output_type": "stream",
     "text": [
      "<ipython-input-211-0a3785370437>:4: DeprecationWarning: find_elements_by_* commands are deprecated. Please use find_elements() instead\n",
      "  date_tag = driver.find_elements_by_xpath(f\"//*[@id = 'tablepress-{i}']/tbody/tr/td[2]\")\n",
      "<ipython-input-211-0a3785370437>:12: DeprecationWarning: find_elements_by_* commands are deprecated. Please use find_elements() instead\n",
      "  name_tag = driver.find_elements_by_xpath(f\"//*[@id = 'tablepress-{i}']/tbody/tr/td[3]/a\")\n",
      "<ipython-input-211-0a3785370437>:20: DeprecationWarning: find_elements_by_* commands are deprecated. Please use find_elements() instead\n",
      "  vert_tag = driver.find_elements_by_xpath(f\"//*[@id = 'tablepress-{i}']/tbody/tr/td[4]\")\n",
      "<ipython-input-211-0a3785370437>:28: DeprecationWarning: find_elements_by_* commands are deprecated. Please use find_elements() instead\n",
      "  subvert_tag = driver.find_elements_by_xpath(f\"//*[@id = 'tablepress-{i}']/tbody/tr/td[5]\")\n",
      "<ipython-input-211-0a3785370437>:36: DeprecationWarning: find_elements_by_* commands are deprecated. Please use find_elements() instead\n",
      "  location_tag = driver.find_elements_by_xpath(f\"//*[@id = 'tablepress-{i}']/tbody/tr/td[6]\")\n",
      "<ipython-input-211-0a3785370437>:44: DeprecationWarning: find_elements_by_* commands are deprecated. Please use find_elements() instead\n",
      "  instname = driver.find_elements_by_xpath(f\"//*[@id = 'tablepress-{i}']/tbody/tr/td[7]\")\n",
      "<ipython-input-211-0a3785370437>:52: DeprecationWarning: find_elements_by_* commands are deprecated. Please use find_elements() instead\n",
      "  inst_type = driver.find_elements_by_xpath(f\"//*[@id = 'tablepress-{i}']/tbody/tr/td[8]\")\n",
      "<ipython-input-211-0a3785370437>:60: DeprecationWarning: find_elements_by_* commands are deprecated. Please use find_elements() instead\n",
      "  amt_tag = driver.find_elements_by_xpath(f\"//*[@id = 'tablepress-{i}']/tbody/tr/td[9]\")\n"
     ]
    }
   ],
   "source": [
    "for i in range(54,57):\n",
    "    \n",
    "    try:\n",
    "        date_tag = driver.find_elements_by_xpath(f\"//*[@id = 'tablepress-{i}']/tbody/tr/td[2]\")\n",
    "        for i in date_tag:\n",
    "            Date.append(i.text)\n",
    "    except:\n",
    "        Date.append('-')\n",
    "        \n",
    "for i in range(54,57):\n",
    "    try:\n",
    "        name_tag = driver.find_elements_by_xpath(f\"//*[@id = 'tablepress-{i}']/tbody/tr/td[3]/a\")\n",
    "        for i in name_tag:\n",
    "            Name.append(i.text)\n",
    "    except:\n",
    "        Name.append('-')\n",
    "        \n",
    "for i in range(54,57):\n",
    "    try:\n",
    "        vert_tag = driver.find_elements_by_xpath(f\"//*[@id = 'tablepress-{i}']/tbody/tr/td[4]\")\n",
    "        for i in vert_tag:\n",
    "            Vertical.append(i.text)\n",
    "    except:\n",
    "        Vertical.append('-')\n",
    "        \n",
    "for i in range(54,57):\n",
    "    try:\n",
    "        subvert_tag = driver.find_elements_by_xpath(f\"//*[@id = 'tablepress-{i}']/tbody/tr/td[5]\")\n",
    "        for i in subvert_tag:\n",
    "            Sub_Vertical.append(i.text)\n",
    "    except:\n",
    "        Sub_Vertical.append('-')\n",
    "        \n",
    "for i in range(54,57):\n",
    "    try:\n",
    "        location_tag = driver.find_elements_by_xpath(f\"//*[@id = 'tablepress-{i}']/tbody/tr/td[6]\")\n",
    "        for i in location_tag:\n",
    "            Location.append(i.text)\n",
    "    except:\n",
    "        Location.append('-')\n",
    "        \n",
    "for i in range(54,57):\n",
    "    try:\n",
    "        instname = driver.find_elements_by_xpath(f\"//*[@id = 'tablepress-{i}']/tbody/tr/td[7]\")\n",
    "        for i in instname:\n",
    "            Investor_Name.append(i.text)\n",
    "    except:\n",
    "        Investor_Name.append('-')\n",
    "        \n",
    "for i in range(54,57):\n",
    "    try:\n",
    "        inst_type = driver.find_elements_by_xpath(f\"//*[@id = 'tablepress-{i}']/tbody/tr/td[8]\")\n",
    "        for i in inst_type:\n",
    "            Type.append(i.text)\n",
    "    except:\n",
    "        Type.append('-')\n",
    "        \n",
    "for i in range(54,57):\n",
    "    try:\n",
    "        amt_tag = driver.find_elements_by_xpath(f\"//*[@id = 'tablepress-{i}']/tbody/tr/td[9]\")\n",
    "        for i in amt_tag:\n",
    "            Money.append(i.text)\n",
    "    except:\n",
    "        Money.append('-')"
   ]
  },
  {
   "cell_type": "code",
   "execution_count": 212,
   "id": "f3b29bc6",
   "metadata": {},
   "outputs": [],
   "source": [
    "# Replacing missing value with '-'\n",
    "\n",
    "for i in range(0,len(Type)):\n",
    "    if Type[i]==\"\":\n",
    "    \n",
    "        Type[i]=\"-\""
   ]
  },
  {
   "cell_type": "code",
   "execution_count": 213,
   "id": "69643bc1",
   "metadata": {},
   "outputs": [
    {
     "name": "stdout",
     "output_type": "stream",
     "text": [
      "24\n",
      "24\n",
      "24\n",
      "24\n",
      "24\n",
      "24\n",
      "24\n",
      "24\n"
     ]
    },
    {
     "data": {
      "text/plain": [
       "(None, None, None, None, None, None, None, None)"
      ]
     },
     "execution_count": 213,
     "metadata": {},
     "output_type": "execute_result"
    }
   ],
   "source": [
    "print(len(Date)),print(len(Name)),print(len(Vertical)),print(len(Sub_Vertical)),print(len(Location)),print(len(Investor_Name)),print(len(Type)),print(len(Money))"
   ]
  },
  {
   "cell_type": "code",
   "execution_count": 214,
   "id": "bbf2ef6c",
   "metadata": {},
   "outputs": [
    {
     "data": {
      "text/html": [
       "<div>\n",
       "<style scoped>\n",
       "    .dataframe tbody tr th:only-of-type {\n",
       "        vertical-align: middle;\n",
       "    }\n",
       "\n",
       "    .dataframe tbody tr th {\n",
       "        vertical-align: top;\n",
       "    }\n",
       "\n",
       "    .dataframe thead th {\n",
       "        text-align: right;\n",
       "    }\n",
       "</style>\n",
       "<table border=\"1\" class=\"dataframe\">\n",
       "  <thead>\n",
       "    <tr style=\"text-align: right;\">\n",
       "      <th></th>\n",
       "      <th>Date</th>\n",
       "      <th>Startup Name</th>\n",
       "      <th>Industry/Vertical</th>\n",
       "      <th>Sub-Vertical</th>\n",
       "      <th>City/Location</th>\n",
       "      <th>Investor Name</th>\n",
       "      <th>Investment Type</th>\n",
       "      <th>Amount</th>\n",
       "    </tr>\n",
       "  </thead>\n",
       "  <tbody>\n",
       "    <tr>\n",
       "      <th>1</th>\n",
       "      <td>15/01/2021</td>\n",
       "      <td>Digit Insurance</td>\n",
       "      <td>Financial Services</td>\n",
       "      <td>Insurance Services</td>\n",
       "      <td>Bengaluru</td>\n",
       "      <td>A91 Partners, Faering Capital, TVS Capital Funds</td>\n",
       "      <td>Venture</td>\n",
       "      <td>1,80,00,000</td>\n",
       "    </tr>\n",
       "    <tr>\n",
       "      <th>2</th>\n",
       "      <td>28/01/2021</td>\n",
       "      <td>Bombay Shaving Company</td>\n",
       "      <td>Consumer Goods Company</td>\n",
       "      <td>Shave care, beard care, and skincare products</td>\n",
       "      <td>New Delhi</td>\n",
       "      <td>Reckitt Benckiser</td>\n",
       "      <td>Venture</td>\n",
       "      <td>6,172,258.50</td>\n",
       "    </tr>\n",
       "    <tr>\n",
       "      <th>3</th>\n",
       "      <td>19/01/2021</td>\n",
       "      <td>DeHaat</td>\n",
       "      <td>AgriTech Startup</td>\n",
       "      <td>online marketplace for farm products and services</td>\n",
       "      <td>Patna</td>\n",
       "      <td>Prosus Ventures</td>\n",
       "      <td>Series C</td>\n",
       "      <td>30,000,000</td>\n",
       "    </tr>\n",
       "    <tr>\n",
       "      <th>4</th>\n",
       "      <td>19/01/2021</td>\n",
       "      <td>Darwinbox</td>\n",
       "      <td>SaaS</td>\n",
       "      <td>HR Tech</td>\n",
       "      <td>Mumbai</td>\n",
       "      <td>Salesforce Ventures</td>\n",
       "      <td>Seed</td>\n",
       "      <td>15,000,000</td>\n",
       "    </tr>\n",
       "    <tr>\n",
       "      <th>5</th>\n",
       "      <td>18/01/2021</td>\n",
       "      <td>mfine</td>\n",
       "      <td>Health Tech Startup</td>\n",
       "      <td>AI-powered telemedicine mobile app</td>\n",
       "      <td>Bengaluru</td>\n",
       "      <td>Heritas Capital Management</td>\n",
       "      <td>Venture Round</td>\n",
       "      <td>16,000,000</td>\n",
       "    </tr>\n",
       "    <tr>\n",
       "      <th>6</th>\n",
       "      <td>18/01/2021</td>\n",
       "      <td>Udayy</td>\n",
       "      <td>EdTech</td>\n",
       "      <td>Online learning platform for kids in class 1-5</td>\n",
       "      <td>Gurgaon</td>\n",
       "      <td>Sequoia Capital</td>\n",
       "      <td>Seed Funding</td>\n",
       "      <td>15,000,000</td>\n",
       "    </tr>\n",
       "    <tr>\n",
       "      <th>7</th>\n",
       "      <td>11/01/2021</td>\n",
       "      <td>True Elements</td>\n",
       "      <td>Food Startup</td>\n",
       "      <td>Whole Food plant based Nashta</td>\n",
       "      <td>Pune</td>\n",
       "      <td>SIDBI Venture Capital</td>\n",
       "      <td>Series</td>\n",
       "      <td>100,000,000</td>\n",
       "    </tr>\n",
       "    <tr>\n",
       "      <th>8</th>\n",
       "      <td>13/01/2021</td>\n",
       "      <td>Saveo</td>\n",
       "      <td>B2B E-commerce</td>\n",
       "      <td>Pharmacies</td>\n",
       "      <td>Bengaluru</td>\n",
       "      <td>Matrix Partners India, RTP Global, others</td>\n",
       "      <td>Seed</td>\n",
       "      <td>4,000,000</td>\n",
       "    </tr>\n",
       "    <tr>\n",
       "      <th>9</th>\n",
       "      <td>11/02/2021</td>\n",
       "      <td>Doubtnut</td>\n",
       "      <td>Edu Tech</td>\n",
       "      <td>E-Learning Platform</td>\n",
       "      <td>Gurgaon</td>\n",
       "      <td>SIG Global, Sequoia Capital, WaterBridge Ventu...</td>\n",
       "      <td>Series B</td>\n",
       "      <td>2,500,000</td>\n",
       "    </tr>\n",
       "    <tr>\n",
       "      <th>10</th>\n",
       "      <td>22/02/2021</td>\n",
       "      <td>Zomato</td>\n",
       "      <td>Hospitality</td>\n",
       "      <td>Online Food Delivery Platform</td>\n",
       "      <td>Gurgaon</td>\n",
       "      <td>Tiger Global, Kora</td>\n",
       "      <td>Venture</td>\n",
       "      <td>250,000,000</td>\n",
       "    </tr>\n",
       "    <tr>\n",
       "      <th>11</th>\n",
       "      <td>19/02/2021</td>\n",
       "      <td>Fingerlix</td>\n",
       "      <td>Hospitality</td>\n",
       "      <td>Semi-cooked food delivery app</td>\n",
       "      <td>Mumbai</td>\n",
       "      <td>Rhodium Trust, Accel Partners and Swiggy</td>\n",
       "      <td>Series C</td>\n",
       "      <td>2,747,045.20</td>\n",
       "    </tr>\n",
       "    <tr>\n",
       "      <th>12</th>\n",
       "      <td>17/02/2021</td>\n",
       "      <td>Zolve</td>\n",
       "      <td>FinTech</td>\n",
       "      <td>Global Neobank Venture</td>\n",
       "      <td>Mumbai</td>\n",
       "      <td>Accel Partners and Lightspeed Venture Partners</td>\n",
       "      <td>Seed</td>\n",
       "      <td>1,50,00,000</td>\n",
       "    </tr>\n",
       "    <tr>\n",
       "      <th>13</th>\n",
       "      <td>15/02/2021</td>\n",
       "      <td>KreditBee</td>\n",
       "      <td>Finance</td>\n",
       "      <td>Digital lending platform</td>\n",
       "      <td>Bengaluru</td>\n",
       "      <td>Azim Premji’s PremjiInvest and South Korea’s M...</td>\n",
       "      <td>Series C</td>\n",
       "      <td>75,000,000</td>\n",
       "    </tr>\n",
       "    <tr>\n",
       "      <th>14</th>\n",
       "      <td>12/02/2021</td>\n",
       "      <td>Pepperfry</td>\n",
       "      <td>E-commerce</td>\n",
       "      <td>Multi-brand furniture brand</td>\n",
       "      <td>Mumbai</td>\n",
       "      <td>InnoVen Capital</td>\n",
       "      <td>Debt Financing</td>\n",
       "      <td>4,773,958</td>\n",
       "    </tr>\n",
       "    <tr>\n",
       "      <th>15</th>\n",
       "      <td>12/02/2021</td>\n",
       "      <td>Grofers</td>\n",
       "      <td>E-Commerce</td>\n",
       "      <td>Online supermarket</td>\n",
       "      <td>Gurgaon</td>\n",
       "      <td>SoftBank Vision Fund (SVF)</td>\n",
       "      <td>Unspecified</td>\n",
       "      <td>55,000,000</td>\n",
       "    </tr>\n",
       "    <tr>\n",
       "      <th>16</th>\n",
       "      <td>09/02/2021</td>\n",
       "      <td>Nothing</td>\n",
       "      <td>Technology</td>\n",
       "      <td>Consumer Technology Venture</td>\n",
       "      <td>London</td>\n",
       "      <td>GV</td>\n",
       "      <td>Series A</td>\n",
       "      <td>15,000,000</td>\n",
       "    </tr>\n",
       "    <tr>\n",
       "      <th>17</th>\n",
       "      <td>09/02/2021</td>\n",
       "      <td>SplashLearn</td>\n",
       "      <td>EdTech</td>\n",
       "      <td>Game-based learning programme</td>\n",
       "      <td>Gurgaon</td>\n",
       "      <td>Owl Ventures</td>\n",
       "      <td>Series C</td>\n",
       "      <td>18,000,000</td>\n",
       "    </tr>\n",
       "    <tr>\n",
       "      <th>18</th>\n",
       "      <td>04/03/2021</td>\n",
       "      <td>DealShare</td>\n",
       "      <td>E-commerce</td>\n",
       "      <td>Online shopping platform</td>\n",
       "      <td>Jaipur, Rajasthan</td>\n",
       "      <td>Innoven Capital</td>\n",
       "      <td>Debt Financing</td>\n",
       "      <td>250,000,000</td>\n",
       "    </tr>\n",
       "    <tr>\n",
       "      <th>19</th>\n",
       "      <td>31/03/2021</td>\n",
       "      <td>Uniphore</td>\n",
       "      <td>Technology</td>\n",
       "      <td>Conversational Service Automation (CSA)</td>\n",
       "      <td>Palo Alto</td>\n",
       "      <td>Sorenson Capital Partners</td>\n",
       "      <td>Series D</td>\n",
       "      <td>140,000,000</td>\n",
       "    </tr>\n",
       "    <tr>\n",
       "      <th>20</th>\n",
       "      <td>30/03/2021</td>\n",
       "      <td>Dunzo</td>\n",
       "      <td>E-commerce</td>\n",
       "      <td>Hyper-local delivery app</td>\n",
       "      <td>Bengaluru</td>\n",
       "      <td>Krishtal Advisors Pte Ltd</td>\n",
       "      <td>Series E</td>\n",
       "      <td>8,000,000</td>\n",
       "    </tr>\n",
       "    <tr>\n",
       "      <th>21</th>\n",
       "      <td>30/03/2021</td>\n",
       "      <td>BYJU’S</td>\n",
       "      <td>Edu-tech</td>\n",
       "      <td>Online tutoring</td>\n",
       "      <td>Bengaluru</td>\n",
       "      <td>MC Global Edtech, B Capital, Baron, others</td>\n",
       "      <td>Series F</td>\n",
       "      <td>460,000,000</td>\n",
       "    </tr>\n",
       "    <tr>\n",
       "      <th>22</th>\n",
       "      <td>23/03/2021</td>\n",
       "      <td>SkilloVilla</td>\n",
       "      <td>Edu-tech</td>\n",
       "      <td>Career and job-oriented upskilling.</td>\n",
       "      <td>Bengaluru</td>\n",
       "      <td>Titan Capital, others</td>\n",
       "      <td>Seed</td>\n",
       "      <td>300,000,000</td>\n",
       "    </tr>\n",
       "    <tr>\n",
       "      <th>23</th>\n",
       "      <td>25/03/2021</td>\n",
       "      <td>CityMall</td>\n",
       "      <td>E-commerce</td>\n",
       "      <td>Social ecommerce and online grocery platform</td>\n",
       "      <td>Gurgaon</td>\n",
       "      <td>Accel Partners</td>\n",
       "      <td>Series A</td>\n",
       "      <td>11,000,000</td>\n",
       "    </tr>\n",
       "    <tr>\n",
       "      <th>24</th>\n",
       "      <td>26/03/2021</td>\n",
       "      <td>DotPe</td>\n",
       "      <td>FinTech</td>\n",
       "      <td>Commerce and payments platform to offline ente...</td>\n",
       "      <td>Gurgaon</td>\n",
       "      <td>PayU</td>\n",
       "      <td>Series A</td>\n",
       "      <td>27,500,000</td>\n",
       "    </tr>\n",
       "  </tbody>\n",
       "</table>\n",
       "</div>"
      ],
      "text/plain": [
       "          Date            Startup Name       Industry/Vertical  \\\n",
       "1   15/01/2021         Digit Insurance      Financial Services   \n",
       "2   28/01/2021  Bombay Shaving Company  Consumer Goods Company   \n",
       "3   19/01/2021                  DeHaat        AgriTech Startup   \n",
       "4   19/01/2021               Darwinbox                    SaaS   \n",
       "5   18/01/2021                   mfine     Health Tech Startup   \n",
       "6   18/01/2021                   Udayy                  EdTech   \n",
       "7   11/01/2021           True Elements            Food Startup   \n",
       "8   13/01/2021                   Saveo          B2B E-commerce   \n",
       "9   11/02/2021                Doubtnut                Edu Tech   \n",
       "10  22/02/2021                  Zomato             Hospitality   \n",
       "11  19/02/2021               Fingerlix             Hospitality   \n",
       "12  17/02/2021                   Zolve                 FinTech   \n",
       "13  15/02/2021               KreditBee                 Finance   \n",
       "14  12/02/2021               Pepperfry              E-commerce   \n",
       "15  12/02/2021                 Grofers              E-Commerce   \n",
       "16  09/02/2021                 Nothing              Technology   \n",
       "17  09/02/2021             SplashLearn                  EdTech   \n",
       "18  04/03/2021               DealShare              E-commerce   \n",
       "19  31/03/2021                Uniphore              Technology   \n",
       "20  30/03/2021                   Dunzo              E-commerce   \n",
       "21  30/03/2021                  BYJU’S                Edu-tech   \n",
       "22  23/03/2021             SkilloVilla                Edu-tech   \n",
       "23  25/03/2021                CityMall              E-commerce   \n",
       "24  26/03/2021                   DotPe                 FinTech   \n",
       "\n",
       "                                         Sub-Vertical      City/Location  \\\n",
       "1                                  Insurance Services          Bengaluru   \n",
       "2       Shave care, beard care, and skincare products          New Delhi   \n",
       "3   online marketplace for farm products and services              Patna   \n",
       "4                                             HR Tech             Mumbai   \n",
       "5                  AI-powered telemedicine mobile app          Bengaluru   \n",
       "6      Online learning platform for kids in class 1-5            Gurgaon   \n",
       "7                       Whole Food plant based Nashta               Pune   \n",
       "8                                          Pharmacies          Bengaluru   \n",
       "9                                 E-Learning Platform            Gurgaon   \n",
       "10                      Online Food Delivery Platform            Gurgaon   \n",
       "11                      Semi-cooked food delivery app             Mumbai   \n",
       "12                             Global Neobank Venture             Mumbai   \n",
       "13                           Digital lending platform          Bengaluru   \n",
       "14                        Multi-brand furniture brand             Mumbai   \n",
       "15                                 Online supermarket            Gurgaon   \n",
       "16                        Consumer Technology Venture             London   \n",
       "17                      Game-based learning programme            Gurgaon   \n",
       "18                           Online shopping platform  Jaipur, Rajasthan   \n",
       "19            Conversational Service Automation (CSA)          Palo Alto   \n",
       "20                           Hyper-local delivery app          Bengaluru   \n",
       "21                                    Online tutoring          Bengaluru   \n",
       "22                Career and job-oriented upskilling.          Bengaluru   \n",
       "23       Social ecommerce and online grocery platform            Gurgaon   \n",
       "24  Commerce and payments platform to offline ente...            Gurgaon   \n",
       "\n",
       "                                        Investor Name Investment Type  \\\n",
       "1    A91 Partners, Faering Capital, TVS Capital Funds         Venture   \n",
       "2                                   Reckitt Benckiser         Venture   \n",
       "3                                     Prosus Ventures        Series C   \n",
       "4                                 Salesforce Ventures            Seed   \n",
       "5                          Heritas Capital Management   Venture Round   \n",
       "6                                     Sequoia Capital    Seed Funding   \n",
       "7                               SIDBI Venture Capital          Series   \n",
       "8           Matrix Partners India, RTP Global, others            Seed   \n",
       "9   SIG Global, Sequoia Capital, WaterBridge Ventu...        Series B   \n",
       "10                                 Tiger Global, Kora         Venture   \n",
       "11           Rhodium Trust, Accel Partners and Swiggy        Series C   \n",
       "12     Accel Partners and Lightspeed Venture Partners            Seed   \n",
       "13  Azim Premji’s PremjiInvest and South Korea’s M...        Series C   \n",
       "14                                    InnoVen Capital  Debt Financing   \n",
       "15                         SoftBank Vision Fund (SVF)     Unspecified   \n",
       "16                                                 GV        Series A   \n",
       "17                                       Owl Ventures        Series C   \n",
       "18                                    Innoven Capital  Debt Financing   \n",
       "19                          Sorenson Capital Partners        Series D   \n",
       "20                          Krishtal Advisors Pte Ltd        Series E   \n",
       "21         MC Global Edtech, B Capital, Baron, others        Series F   \n",
       "22                              Titan Capital, others            Seed   \n",
       "23                                     Accel Partners        Series A   \n",
       "24                                               PayU        Series A   \n",
       "\n",
       "          Amount  \n",
       "1    1,80,00,000  \n",
       "2   6,172,258.50  \n",
       "3     30,000,000  \n",
       "4     15,000,000  \n",
       "5     16,000,000  \n",
       "6     15,000,000  \n",
       "7    100,000,000  \n",
       "8      4,000,000  \n",
       "9      2,500,000  \n",
       "10   250,000,000  \n",
       "11  2,747,045.20  \n",
       "12   1,50,00,000  \n",
       "13    75,000,000  \n",
       "14     4,773,958  \n",
       "15    55,000,000  \n",
       "16    15,000,000  \n",
       "17    18,000,000  \n",
       "18   250,000,000  \n",
       "19   140,000,000  \n",
       "20     8,000,000  \n",
       "21   460,000,000  \n",
       "22   300,000,000  \n",
       "23    11,000,000  \n",
       "24    27,500,000  "
      ]
     },
     "execution_count": 214,
     "metadata": {},
     "output_type": "execute_result"
    }
   ],
   "source": [
    "StartUp = {'Date':Date,'Startup Name':Name,'Industry/Vertical':Vertical,'Sub-Vertical':Sub_Vertical,'City/Location':Location,'Investor Name':Investor_Name,\"Investment Type\":Type,\"Amount\":Money}\n",
    "startup = pd.DataFrame(StartUp)\n",
    "\n",
    "startup.reset_index(drop = True,inplace = True)\n",
    "startup.index+=1\n",
    "startup\n"
   ]
  },
  {
   "cell_type": "markdown",
   "id": "30fcb6af",
   "metadata": {},
   "source": [
    "# 7. Write a program to scrap all the available details of best gaming laptops from digit.in"
   ]
  },
  {
   "cell_type": "code",
   "execution_count": 277,
   "id": "91eff114",
   "metadata": {},
   "outputs": [
    {
     "name": "stderr",
     "output_type": "stream",
     "text": [
      "<ipython-input-277-e6b521f067ba>:1: DeprecationWarning: executable_path has been deprecated, please pass in a Service object\n",
      "  driver = webdriver.Chrome(r\"C:/Users/siddh/Downloads/chromedriver_win32/chromedriver.exe\")\n"
     ]
    }
   ],
   "source": [
    "driver = webdriver.Chrome(r\"C:/Users/siddh/Downloads/chromedriver_win32/chromedriver.exe\")\n",
    "driver.get('https://www.digit.in/')\n",
    "driver.maximize_window()"
   ]
  },
  {
   "cell_type": "code",
   "execution_count": 278,
   "id": "8b7da451",
   "metadata": {},
   "outputs": [
    {
     "name": "stderr",
     "output_type": "stream",
     "text": [
      "<ipython-input-278-7dfcb9413415>:1: DeprecationWarning: find_element_by_* commands are deprecated. Please use find_element() instead\n",
      "  laptop = driver.find_element_by_xpath('/html/body/div[1]/div/div[4]/ul/li[4]/a')\n"
     ]
    }
   ],
   "source": [
    "laptop = driver.find_element_by_xpath('/html/body/div[1]/div/div[4]/ul/li[4]/a')\n",
    "laptop.click()\n"
   ]
  },
  {
   "cell_type": "code",
   "execution_count": 279,
   "id": "ba066db4",
   "metadata": {},
   "outputs": [
    {
     "name": "stderr",
     "output_type": "stream",
     "text": [
      "<ipython-input-279-8ec165de8e26>:1: DeprecationWarning: find_element_by_* commands are deprecated. Please use find_element() instead\n",
      "  bestgaminglaptop = driver.find_element_by_xpath('/html/body/div[3]/div/div/div[3]/div[2]/ul/li[26]/a')\n"
     ]
    }
   ],
   "source": [
    "bestgaminglaptop = driver.find_element_by_xpath('/html/body/div[3]/div/div/div[3]/div[2]/ul/li[26]/a')\n",
    "bestgaminglaptop.click()\n",
    "\n",
    "# /html/body/div[3]/div/div/div[3]/div[2]/ul/li[26]/a"
   ]
  },
  {
   "cell_type": "code",
   "execution_count": 280,
   "id": "1b4bf103",
   "metadata": {},
   "outputs": [],
   "source": [
    "name = []\n",
    "OS = []\n",
    "Display = []\n",
    "Processor = []\n",
    "Memory = []\n",
    "Weight = []\n",
    "Dimension = []\n",
    "Graphics_Processor = []\n",
    "Price = []"
   ]
  },
  {
   "cell_type": "code",
   "execution_count": 281,
   "id": "329e8478",
   "metadata": {},
   "outputs": [
    {
     "name": "stderr",
     "output_type": "stream",
     "text": [
      "<ipython-input-281-c0be82573e41>:1: DeprecationWarning: find_elements_by_* commands are deprecated. Please use find_elements() instead\n",
      "  name_tag = driver.find_elements_by_xpath(\"//*[@id = 'summtable']/tbody/tr/td[1]\")\n",
      "<ipython-input-281-c0be82573e41>:5: DeprecationWarning: find_elements_by_* commands are deprecated. Please use find_elements() instead\n",
      "  price_tag = driver.find_elements_by_xpath(\"//*[@id = 'summtable']/tbody/tr/td[3]\")\n",
      "<ipython-input-281-c0be82573e41>:9: DeprecationWarning: find_elements_by_* commands are deprecated. Please use find_elements() instead\n",
      "  disp_tag = driver.find_elements_by_xpath(\"//div[@class = 'Spcs-details']/table/tbody/tr[4]/td[3]\")\n",
      "<ipython-input-281-c0be82573e41>:13: DeprecationWarning: find_elements_by_* commands are deprecated. Please use find_elements() instead\n",
      "  proc_tag = driver.find_elements_by_xpath(\"//div[@class = 'Spcs-details']/table/tbody/tr[5]/td[3]\")\n",
      "<ipython-input-281-c0be82573e41>:17: DeprecationWarning: find_elements_by_* commands are deprecated. Please use find_elements() instead\n",
      "  mem_tag = driver.find_elements_by_xpath(\"//div[@class = 'Spcs-details']/table/tbody/tr[6]/td[3]\")\n",
      "<ipython-input-281-c0be82573e41>:21: DeprecationWarning: find_elements_by_* commands are deprecated. Please use find_elements() instead\n",
      "  weight_tag = driver.find_elements_by_xpath(\"//div[@class = 'Spcs-details']/table/tbody/tr[7]/td[3]\")\n",
      "<ipython-input-281-c0be82573e41>:25: DeprecationWarning: find_elements_by_* commands are deprecated. Please use find_elements() instead\n",
      "  dimen_tag = driver.find_elements_by_xpath(\"//div[@class = 'Spcs-details']/table/tbody/tr[8]/td[3]\")\n",
      "<ipython-input-281-c0be82573e41>:29: DeprecationWarning: find_elements_by_* commands are deprecated. Please use find_elements() instead\n",
      "  grap_tag = driver.find_elements_by_xpath(\"//div[@class = 'Spcs-details']/table/tbody/tr[9]/td[3]\")\n",
      "<ipython-input-281-c0be82573e41>:33: DeprecationWarning: find_elements_by_* commands are deprecated. Please use find_elements() instead\n",
      "  os_tag = driver.find_elements_by_xpath(\"//div[@class = 'Spcs-details']/table/tbody/tr[3]/td[3]\")\n"
     ]
    }
   ],
   "source": [
    "name_tag = driver.find_elements_by_xpath(\"//*[@id = 'summtable']/tbody/tr/td[1]\")\n",
    "for n in name_tag:\n",
    "    name.append(n.text)\n",
    "    \n",
    "price_tag = driver.find_elements_by_xpath(\"//*[@id = 'summtable']/tbody/tr/td[3]\")\n",
    "for i in price_tag:\n",
    "    Price.append(i.text)\n",
    "    \n",
    "disp_tag = driver.find_elements_by_xpath(\"//div[@class = 'Spcs-details']/table/tbody/tr[4]/td[3]\")\n",
    "for j in disp_tag:\n",
    "    Display.append(j.text)\n",
    "    \n",
    "proc_tag = driver.find_elements_by_xpath(\"//div[@class = 'Spcs-details']/table/tbody/tr[5]/td[3]\")\n",
    "for k in proc_tag:\n",
    "    Processor.append(k.text)\n",
    "    \n",
    "mem_tag = driver.find_elements_by_xpath(\"//div[@class = 'Spcs-details']/table/tbody/tr[6]/td[3]\")\n",
    "for l in mem_tag:\n",
    "    Memory.append(l.text)\n",
    "    \n",
    "weight_tag = driver.find_elements_by_xpath(\"//div[@class = 'Spcs-details']/table/tbody/tr[7]/td[3]\")\n",
    "for m in weight_tag:\n",
    "    Weight.append(m.text)\n",
    "    \n",
    "dimen_tag = driver.find_elements_by_xpath(\"//div[@class = 'Spcs-details']/table/tbody/tr[8]/td[3]\")\n",
    "for b in dimen_tag:\n",
    "    Dimension.append(b.text)\n",
    "    \n",
    "grap_tag = driver.find_elements_by_xpath(\"//div[@class = 'Spcs-details']/table/tbody/tr[9]/td[3]\")\n",
    "for d in grap_tag:\n",
    "    Graphics_Processor.append(d.text)\n",
    "    \n",
    "os_tag = driver.find_elements_by_xpath(\"//div[@class = 'Spcs-details']/table/tbody/tr[3]/td[3]\")\n",
    "for h in os_tag:\n",
    "    OS.append(h.text)\n",
    "    \n",
    "\n"
   ]
  },
  {
   "cell_type": "code",
   "execution_count": 282,
   "id": "e8135ec3",
   "metadata": {},
   "outputs": [
    {
     "name": "stdout",
     "output_type": "stream",
     "text": [
      "10\n",
      "10\n",
      "10\n",
      "10\n",
      "10\n",
      "10\n",
      "10\n",
      "10\n",
      "10\n"
     ]
    },
    {
     "data": {
      "text/plain": [
       "(None, None, None, None, None, None, None, None, None)"
      ]
     },
     "execution_count": 282,
     "metadata": {},
     "output_type": "execute_result"
    }
   ],
   "source": [
    "print(len(name)),print(len(OS)),print(len(Display)),print(len(Processor)),print(len(Memory)),print(len(Weight)),print(len(Dimension)),print(len(Graphics_Processor)),print(len(Price))"
   ]
  },
  {
   "cell_type": "code",
   "execution_count": 287,
   "id": "8e6fc3d5",
   "metadata": {},
   "outputs": [],
   "source": [
    "Gaming_Laptop = {\"Brand Name\":name,\"Operating System\":OS,\"Display\":Display,\"Processor\":Processor,\"Memory\":Memory,\"Weight in KG\":Weight,\"Dimension\":Dimension,\"Graphics Processor\":Graphics_Processor,\"Price in INR\":Price}\n",
    "Gaming_Laptop = pd.DataFrame(Gaming_Laptop)\n",
    "Gaming_Laptop.reset_index(drop = True, inplace = True)\n",
    "Gaming_Laptop.index+=1"
   ]
  },
  {
   "cell_type": "code",
   "execution_count": 288,
   "id": "46e55823",
   "metadata": {},
   "outputs": [
    {
     "data": {
      "text/html": [
       "<div>\n",
       "<style scoped>\n",
       "    .dataframe tbody tr th:only-of-type {\n",
       "        vertical-align: middle;\n",
       "    }\n",
       "\n",
       "    .dataframe tbody tr th {\n",
       "        vertical-align: top;\n",
       "    }\n",
       "\n",
       "    .dataframe thead th {\n",
       "        text-align: right;\n",
       "    }\n",
       "</style>\n",
       "<table border=\"1\" class=\"dataframe\">\n",
       "  <thead>\n",
       "    <tr style=\"text-align: right;\">\n",
       "      <th></th>\n",
       "      <th>Brand Name</th>\n",
       "      <th>Operating System</th>\n",
       "      <th>Display</th>\n",
       "      <th>Processor</th>\n",
       "      <th>Memory</th>\n",
       "      <th>Weight in KG</th>\n",
       "      <th>Dimension</th>\n",
       "      <th>Graphics Processor</th>\n",
       "      <th>Price in INR</th>\n",
       "    </tr>\n",
       "  </thead>\n",
       "  <tbody>\n",
       "    <tr>\n",
       "      <th>1</th>\n",
       "      <td>Acer NITRO 5 Ryzen 9 (2021)</td>\n",
       "      <td>Windows 10</td>\n",
       "      <td>15.6\" (1920 x 1080)</td>\n",
       "      <td>AMD Ryzen 9 Octa Core | 2.4 GHz</td>\n",
       "      <td>1 TB HDD/16 GBGB DDR4</td>\n",
       "      <td>2.4</td>\n",
       "      <td>363.4 x 255 x 23.9</td>\n",
       "      <td>NVIDIA GeForce RTX 3070</td>\n",
       "      <td>₹ 129,990</td>\n",
       "    </tr>\n",
       "    <tr>\n",
       "      <th>2</th>\n",
       "      <td>MSI Stealth 15M 11th Gen Core i7-11375H (2021</td>\n",
       "      <td>Windows 10</td>\n",
       "      <td>15.6\" (1920 x 1080)</td>\n",
       "      <td>Intel Core i7 11th Gen - 11375H | NA</td>\n",
       "      <td>1 TB SSD/16 GBGB DDR4</td>\n",
       "      <td>1.7</td>\n",
       "      <td>358.3 x 248 x 16.15</td>\n",
       "      <td>NVIDIA GeForce RTX 3060</td>\n",
       "      <td>₹ 134,990</td>\n",
       "    </tr>\n",
       "    <tr>\n",
       "      <th>3</th>\n",
       "      <td>ASUS ROG Strix Scar 15 Ryzen 9-5900HX (2021)</td>\n",
       "      <td>Windows 10</td>\n",
       "      <td>15.6\" (2560 x 1440)</td>\n",
       "      <td>AMD Ryzen 9 Octa Core - 5900HX | 3.3 GHz</td>\n",
       "      <td>2 TB SSD/32 GBGB DDR4</td>\n",
       "      <td>2.30</td>\n",
       "      <td>354 x 259 x 22.6</td>\n",
       "      <td>NVIDIA GeForce RTX 3080</td>\n",
       "      <td>₹ 268,990</td>\n",
       "    </tr>\n",
       "    <tr>\n",
       "      <th>4</th>\n",
       "      <td>Alienware Area 51M R2</td>\n",
       "      <td>Windows 10 Home</td>\n",
       "      <td>17.3\" (1920 x 1080)</td>\n",
       "      <td>10th Gen Intel® Core™ i7-10700 | 2.90 GHz</td>\n",
       "      <td>1 TB SSD/16 GBGB DDR4</td>\n",
       "      <td>4.1</td>\n",
       "      <td>27.65 x 402.6 x 319.14</td>\n",
       "      <td>Intel® UHD Graphics 630</td>\n",
       "      <td>₹ 342,989</td>\n",
       "    </tr>\n",
       "    <tr>\n",
       "      <th>5</th>\n",
       "      <td>Alienware m15 R3</td>\n",
       "      <td>Windows 10 Home</td>\n",
       "      <td>15.6\" (3840 x 2160)</td>\n",
       "      <td>10th Gen Intel® Core™ i9-10980HK | NA</td>\n",
       "      <td>1 TB SSD/16 GBGB DDR4</td>\n",
       "      <td>NA</td>\n",
       "      <td>NA</td>\n",
       "      <td>NA</td>\n",
       "      <td>₹ 319,990</td>\n",
       "    </tr>\n",
       "    <tr>\n",
       "      <th>6</th>\n",
       "      <td>ASUS ROG Strix Scar 15</td>\n",
       "      <td>Windows 10 Home</td>\n",
       "      <td>15.6\" (1920 x 1080)</td>\n",
       "      <td>AMD Ryzen™ 9 5900HX | 3.3 GHz</td>\n",
       "      <td>1 TB SSD/16 GBGB DDR4</td>\n",
       "      <td>2.30</td>\n",
       "      <td>35.4 x 25.9 x 2.26</td>\n",
       "      <td>NVIDIA® GeForce RTX™ 3070</td>\n",
       "      <td>₹ 215,990</td>\n",
       "    </tr>\n",
       "    <tr>\n",
       "      <th>7</th>\n",
       "      <td>Asus ROG Zephyrus G14</td>\n",
       "      <td>Windows 10 Home</td>\n",
       "      <td>14\" (1920 x 1080)</td>\n",
       "      <td>AMD 3rd Gen Ryzen 9 | 3.3 GHz</td>\n",
       "      <td>1 TB SSD/16 GBGB DDR4</td>\n",
       "      <td>1.65</td>\n",
       "      <td>32.5 x 22.1 x 1.8</td>\n",
       "      <td>NVIDIA GeForce RTX 2060</td>\n",
       "      <td>₹ 164,990</td>\n",
       "    </tr>\n",
       "    <tr>\n",
       "      <th>8</th>\n",
       "      <td>Lenovo Legion 5i</td>\n",
       "      <td>Windows 10 Pro</td>\n",
       "      <td>15.6\" (1920 x 1080)</td>\n",
       "      <td>10th Gen Intel® Core™ i5-10300H | 2.50 GHz</td>\n",
       "      <td>1 TB SSD/16 GBGB DDR4</td>\n",
       "      <td>2.3</td>\n",
       "      <td>363.06 x 259.61 x 23.57</td>\n",
       "      <td>NVIDIA® GeForce® GTX 1650 4GB</td>\n",
       "      <td>₹ 76,988</td>\n",
       "    </tr>\n",
       "    <tr>\n",
       "      <th>9</th>\n",
       "      <td>ASUS ROG ZEPHYRUS DUO 15</td>\n",
       "      <td>Windows 10</td>\n",
       "      <td>15.6\" (3840 x 1100)</td>\n",
       "      <td>Intel Core i7 10th Gen 10875H | NA</td>\n",
       "      <td>512 GB SSD/4 GBGB DDR4</td>\n",
       "      <td>2.4</td>\n",
       "      <td>268.30 x 360.00 x 20.90</td>\n",
       "      <td>NVIDIA GeForce RTX 2070 Max-Q</td>\n",
       "      <td>₹ 185,000</td>\n",
       "    </tr>\n",
       "    <tr>\n",
       "      <th>10</th>\n",
       "      <td>Acer Aspire 7 gaming</td>\n",
       "      <td>Windows 10 Home</td>\n",
       "      <td>15.6\" (1920 x 1080)</td>\n",
       "      <td>AMD Ryzen™ 5-5500U hexa-core | NA</td>\n",
       "      <td>512 GB SSD/8 GBGB DDR4</td>\n",
       "      <td>2.15</td>\n",
       "      <td>2.29 x 36.3 x 25.4</td>\n",
       "      <td>NVIDIA® GeForce® GTX 1650</td>\n",
       "      <td>₹ 57,600</td>\n",
       "    </tr>\n",
       "  </tbody>\n",
       "</table>\n",
       "</div>"
      ],
      "text/plain": [
       "                                       Brand Name Operating System  \\\n",
       "1                     Acer NITRO 5 Ryzen 9 (2021)       Windows 10   \n",
       "2   MSI Stealth 15M 11th Gen Core i7-11375H (2021       Windows 10   \n",
       "3    ASUS ROG Strix Scar 15 Ryzen 9-5900HX (2021)       Windows 10   \n",
       "4                           Alienware Area 51M R2  Windows 10 Home   \n",
       "5                                Alienware m15 R3  Windows 10 Home   \n",
       "6                          ASUS ROG Strix Scar 15  Windows 10 Home   \n",
       "7                           Asus ROG Zephyrus G14  Windows 10 Home   \n",
       "8                                Lenovo Legion 5i   Windows 10 Pro   \n",
       "9                        ASUS ROG ZEPHYRUS DUO 15       Windows 10   \n",
       "10                           Acer Aspire 7 gaming  Windows 10 Home   \n",
       "\n",
       "                Display                                   Processor  \\\n",
       "1   15.6\" (1920 x 1080)             AMD Ryzen 9 Octa Core | 2.4 GHz   \n",
       "2   15.6\" (1920 x 1080)        Intel Core i7 11th Gen - 11375H | NA   \n",
       "3   15.6\" (2560 x 1440)    AMD Ryzen 9 Octa Core - 5900HX | 3.3 GHz   \n",
       "4   17.3\" (1920 x 1080)   10th Gen Intel® Core™ i7-10700 | 2.90 GHz   \n",
       "5   15.6\" (3840 x 2160)       10th Gen Intel® Core™ i9-10980HK | NA   \n",
       "6   15.6\" (1920 x 1080)               AMD Ryzen™ 9 5900HX | 3.3 GHz   \n",
       "7     14\" (1920 x 1080)               AMD 3rd Gen Ryzen 9 | 3.3 GHz   \n",
       "8   15.6\" (1920 x 1080)  10th Gen Intel® Core™ i5-10300H | 2.50 GHz   \n",
       "9   15.6\" (3840 x 1100)          Intel Core i7 10th Gen 10875H | NA   \n",
       "10  15.6\" (1920 x 1080)           AMD Ryzen™ 5-5500U hexa-core | NA   \n",
       "\n",
       "                    Memory Weight in KG                Dimension  \\\n",
       "1    1 TB HDD/16 GBGB DDR4          2.4       363.4 x 255 x 23.9   \n",
       "2    1 TB SSD/16 GBGB DDR4          1.7      358.3 x 248 x 16.15   \n",
       "3    2 TB SSD/32 GBGB DDR4         2.30         354 x 259 x 22.6   \n",
       "4    1 TB SSD/16 GBGB DDR4          4.1   27.65 x 402.6 x 319.14   \n",
       "5    1 TB SSD/16 GBGB DDR4           NA                       NA   \n",
       "6    1 TB SSD/16 GBGB DDR4         2.30       35.4 x 25.9 x 2.26   \n",
       "7    1 TB SSD/16 GBGB DDR4         1.65        32.5 x 22.1 x 1.8   \n",
       "8    1 TB SSD/16 GBGB DDR4          2.3  363.06 x 259.61 x 23.57   \n",
       "9   512 GB SSD/4 GBGB DDR4          2.4  268.30 x 360.00 x 20.90   \n",
       "10  512 GB SSD/8 GBGB DDR4         2.15       2.29 x 36.3 x 25.4   \n",
       "\n",
       "               Graphics Processor Price in INR  \n",
       "1         NVIDIA GeForce RTX 3070    ₹ 129,990  \n",
       "2         NVIDIA GeForce RTX 3060    ₹ 134,990  \n",
       "3         NVIDIA GeForce RTX 3080    ₹ 268,990  \n",
       "4         Intel® UHD Graphics 630    ₹ 342,989  \n",
       "5                              NA    ₹ 319,990  \n",
       "6       NVIDIA® GeForce RTX™ 3070    ₹ 215,990  \n",
       "7         NVIDIA GeForce RTX 2060    ₹ 164,990  \n",
       "8   NVIDIA® GeForce® GTX 1650 4GB     ₹ 76,988  \n",
       "9   NVIDIA GeForce RTX 2070 Max-Q    ₹ 185,000  \n",
       "10      NVIDIA® GeForce® GTX 1650     ₹ 57,600  "
      ]
     },
     "execution_count": 288,
     "metadata": {},
     "output_type": "execute_result"
    }
   ],
   "source": [
    " Gaming_Laptop"
   ]
  },
  {
   "cell_type": "markdown",
   "id": "0c44b8dc",
   "metadata": {},
   "source": [
    "# 8. Write a python program to scrape the details for all billionaires from www.forbes.com. Details to be scrapped: “Rank”, “Name”, “Net worth”, “Age”, “Citizenship”, “Source”, “Industry”"
   ]
  },
  {
   "cell_type": "code",
   "execution_count": 356,
   "id": "eb43bde5",
   "metadata": {},
   "outputs": [
    {
     "name": "stderr",
     "output_type": "stream",
     "text": [
      "<ipython-input-356-975f6be0886a>:1: DeprecationWarning: executable_path has been deprecated, please pass in a Service object\n",
      "  driver = webdriver.Chrome(r\"C:/Users/siddh/Downloads/chromedriver_win32/chromedriver.exe\")\n"
     ]
    }
   ],
   "source": [
    "driver = webdriver.Chrome(r\"C:/Users/siddh/Downloads/chromedriver_win32/chromedriver.exe\")\n",
    "driver.get('https://www.forbes.com/')\n",
    "driver.maximize_window()"
   ]
  },
  {
   "cell_type": "code",
   "execution_count": 357,
   "id": "7375688c",
   "metadata": {},
   "outputs": [
    {
     "name": "stderr",
     "output_type": "stream",
     "text": [
      "<ipython-input-357-3ae8b51a1fce>:3: DeprecationWarning: find_element_by_* commands are deprecated. Please use find_element() instead\n",
      "  explore_button = driver.find_element_by_xpath(\"//button[@class = 'icon--hamburger']\")\n"
     ]
    }
   ],
   "source": [
    "#Clicking on Explore button\n",
    "\n",
    "explore_button = driver.find_element_by_xpath(\"//button[@class = 'icon--hamburger']\")\n",
    "explore_button.click()"
   ]
  },
  {
   "cell_type": "code",
   "execution_count": 358,
   "id": "ab2dec7e",
   "metadata": {},
   "outputs": [
    {
     "name": "stderr",
     "output_type": "stream",
     "text": [
      "<ipython-input-358-e9ef0e27909e>:2: DeprecationWarning: find_element_by_* commands are deprecated. Please use find_element() instead\n",
      "  bill_button = driver.find_element_by_xpath('/html/body/div[1]/header/nav/div[3]/ul/li[1]')\n",
      "<ipython-input-358-e9ef0e27909e>:6: DeprecationWarning: find_element_by_* commands are deprecated. Please use find_element() instead\n",
      "  allbill = driver.find_element_by_xpath('/html/body/div[1]/header/nav/div[3]/ul/li[1]/div[2]/ul/li[2]/a')\n"
     ]
    }
   ],
   "source": [
    "#Clicking on Billionaires option\n",
    "bill_button = driver.find_element_by_xpath('/html/body/div[1]/header/nav/div[3]/ul/li[1]')\n",
    "bill_button.click()\n",
    "\n",
    "#Clicking on World's Billionaries option\n",
    "allbill = driver.find_element_by_xpath('/html/body/div[1]/header/nav/div[3]/ul/li[1]/div[2]/ul/li[2]/a')\n",
    "allbill.click()"
   ]
  },
  {
   "cell_type": "code",
   "execution_count": 359,
   "id": "39422c29",
   "metadata": {},
   "outputs": [],
   "source": [
    "Rank = []\n",
    "Name = []\n",
    "Net_Worth = []\n",
    "Age = []\n",
    "Citizenship = []\n",
    "Source = []\n",
    "Industry = []"
   ]
  },
  {
   "cell_type": "code",
   "execution_count": 360,
   "id": "9ae33e21",
   "metadata": {},
   "outputs": [
    {
     "name": "stderr",
     "output_type": "stream",
     "text": [
      "<ipython-input-360-aa9996e76e58>:1: DeprecationWarning: find_elements_by_* commands are deprecated. Please use find_elements() instead\n",
      "  rank_tag = driver.find_elements_by_xpath(\"//div[@class = 'rank']\")\n",
      "<ipython-input-360-aa9996e76e58>:5: DeprecationWarning: find_elements_by_* commands are deprecated. Please use find_elements() instead\n",
      "  name_tag = driver.find_elements_by_xpath(\"//div[@class = 'personName']//div\")\n",
      "<ipython-input-360-aa9996e76e58>:9: DeprecationWarning: find_elements_by_* commands are deprecated. Please use find_elements() instead\n",
      "  nworth_tag = driver.find_elements_by_xpath(\"//div[@class = 'netWorth']//div\")\n",
      "<ipython-input-360-aa9996e76e58>:13: DeprecationWarning: find_elements_by_* commands are deprecated. Please use find_elements() instead\n",
      "  age_tag = driver.find_elements_by_xpath(\"//div[@class = 'age']//div\")\n",
      "<ipython-input-360-aa9996e76e58>:17: DeprecationWarning: find_elements_by_* commands are deprecated. Please use find_elements() instead\n",
      "  citi_tag = driver.find_elements_by_xpath(\"//div[@class = 'countryOfCitizenship']\")\n",
      "<ipython-input-360-aa9996e76e58>:21: DeprecationWarning: find_elements_by_* commands are deprecated. Please use find_elements() instead\n",
      "  source_tag = driver.find_elements_by_xpath(\"//div[@class = 'source-column']//div\")\n",
      "<ipython-input-360-aa9996e76e58>:25: DeprecationWarning: find_elements_by_* commands are deprecated. Please use find_elements() instead\n",
      "  ind_tag = driver.find_elements_by_xpath(\"//div[@class = 'category']//div\")\n"
     ]
    }
   ],
   "source": [
    "rank_tag = driver.find_elements_by_xpath(\"//div[@class = 'rank']\")\n",
    "for i in rank_tag:\n",
    "    Rank.append(i.text)\n",
    "    \n",
    "name_tag = driver.find_elements_by_xpath(\"//div[@class = 'personName']//div\")\n",
    "for j in name_tag:\n",
    "    Name.append(j.text)\n",
    "\n",
    "nworth_tag = driver.find_elements_by_xpath(\"//div[@class = 'netWorth']//div\")\n",
    "for k in nworth_tag:\n",
    "    Net_Worth.append(k.text)\n",
    "    \n",
    "age_tag = driver.find_elements_by_xpath(\"//div[@class = 'age']//div\")\n",
    "for l in age_tag:\n",
    "    Age.append(l.text)\n",
    "    \n",
    "citi_tag = driver.find_elements_by_xpath(\"//div[@class = 'countryOfCitizenship']\")\n",
    "for m in citi_tag:\n",
    "    Citizenship.append(m.text)\n",
    "    \n",
    "source_tag = driver.find_elements_by_xpath(\"//div[@class = 'source-column']//div\")\n",
    "for n in source_tag:\n",
    "    Source.append(n.text)\n",
    "    \n",
    "ind_tag = driver.find_elements_by_xpath(\"//div[@class = 'category']//div\")\n",
    "for o in ind_tag:\n",
    "    Industry.append(o.text)"
   ]
  },
  {
   "cell_type": "code",
   "execution_count": 361,
   "id": "10453443",
   "metadata": {},
   "outputs": [
    {
     "name": "stderr",
     "output_type": "stream",
     "text": [
      "<ipython-input-361-9d997858860d>:7: DeprecationWarning: find_element_by_* commands are deprecated. Please use find_element() instead\n",
      "  nextbtn = driver.find_element_by_xpath(\"//div[@class = 'next-page']\")\n",
      "<ipython-input-361-9d997858860d>:11: DeprecationWarning: find_elements_by_* commands are deprecated. Please use find_elements() instead\n",
      "  rank_tag = driver.find_elements_by_xpath(\"//div[@class = 'rank']\")\n",
      "<ipython-input-361-9d997858860d>:15: DeprecationWarning: find_elements_by_* commands are deprecated. Please use find_elements() instead\n",
      "  name_tag = driver.find_elements_by_xpath(\"//div[@class = 'personName']//div\")\n",
      "<ipython-input-361-9d997858860d>:19: DeprecationWarning: find_elements_by_* commands are deprecated. Please use find_elements() instead\n",
      "  nworth_tag = driver.find_elements_by_xpath(\"//div[@class = 'netWorth']//div\")\n",
      "<ipython-input-361-9d997858860d>:23: DeprecationWarning: find_elements_by_* commands are deprecated. Please use find_elements() instead\n",
      "  age_tag = driver.find_elements_by_xpath(\"//div[@class = 'age']//div\")\n",
      "<ipython-input-361-9d997858860d>:27: DeprecationWarning: find_elements_by_* commands are deprecated. Please use find_elements() instead\n",
      "  citi_tag = driver.find_elements_by_xpath(\"//div[@class = 'countryOfCitizenship']\")\n",
      "<ipython-input-361-9d997858860d>:31: DeprecationWarning: find_elements_by_* commands are deprecated. Please use find_elements() instead\n",
      "  source_tag = driver.find_elements_by_xpath(\"//div[@class = 'source-column']//div\")\n",
      "<ipython-input-361-9d997858860d>:35: DeprecationWarning: find_elements_by_* commands are deprecated. Please use find_elements() instead\n",
      "  ind_tag = driver.find_elements_by_xpath(\"//div[@class = 'category']//div\")\n"
     ]
    }
   ],
   "source": [
    "import time\n",
    "\n",
    "e=0\n",
    "\n",
    "while(e<=12):\n",
    "    \n",
    "    nextbtn = driver.find_element_by_xpath(\"//div[@class = 'next-page']\")\n",
    "    nextbtn.click()\n",
    "    time.sleep(3)\n",
    "    \n",
    "    rank_tag = driver.find_elements_by_xpath(\"//div[@class = 'rank']\")\n",
    "    for i in rank_tag:\n",
    "        Rank.append(i.text)\n",
    "    \n",
    "    name_tag = driver.find_elements_by_xpath(\"//div[@class = 'personName']//div\")\n",
    "    for j in name_tag:\n",
    "        Name.append(j.text)\n",
    "\n",
    "    nworth_tag = driver.find_elements_by_xpath(\"//div[@class = 'netWorth']//div\")\n",
    "    for k in nworth_tag:\n",
    "        Net_Worth.append(k.text)\n",
    "    \n",
    "    age_tag = driver.find_elements_by_xpath(\"//div[@class = 'age']//div\")\n",
    "    for l in age_tag:\n",
    "        Age.append(l.text)\n",
    "    \n",
    "    citi_tag = driver.find_elements_by_xpath(\"//div[@class = 'countryOfCitizenship']\")\n",
    "    for m in citi_tag:\n",
    "        Citizenship.append(m.text)\n",
    "    \n",
    "    source_tag = driver.find_elements_by_xpath(\"//div[@class = 'source-column']//div\")\n",
    "    for n in source_tag:\n",
    "        Source.append(n.text)\n",
    "    \n",
    "    ind_tag = driver.find_elements_by_xpath(\"//div[@class = 'category']//div\")\n",
    "    for o in ind_tag:\n",
    "        Industry.append(o.text)\n",
    "        \n",
    "    e=e+1"
   ]
  },
  {
   "cell_type": "code",
   "execution_count": 362,
   "id": "ded09d9d",
   "metadata": {},
   "outputs": [
    {
     "name": "stdout",
     "output_type": "stream",
     "text": [
      "2755\n",
      "2755\n",
      "5510\n",
      "2755\n",
      "2755\n",
      "5510\n",
      "2755\n"
     ]
    },
    {
     "data": {
      "text/plain": [
       "(None, None, None, None, None, None, None)"
      ]
     },
     "execution_count": 362,
     "metadata": {},
     "output_type": "execute_result"
    }
   ],
   "source": [
    "print(len(Rank)),print(len(Name)),print(len(Net_Worth)),print(len(Age)),print(len(Citizenship)),print(len(Source)),print(len(Industry))"
   ]
  },
  {
   "cell_type": "code",
   "execution_count": 365,
   "id": "5ef2f51a",
   "metadata": {},
   "outputs": [],
   "source": [
    "#removing empty string value from Net_Worth\n",
    "while('' in Net_Worth):\n",
    "    Net_Worth.remove(\"\")"
   ]
  },
  {
   "cell_type": "code",
   "execution_count": 376,
   "id": "6bdbf20b",
   "metadata": {},
   "outputs": [],
   "source": [
    "#replacing unwanted symble with empty string\n",
    "\n",
    "for i in range(0,len(Source)):\n",
    "    if Source[i]=='★':\n",
    "        Source[i]= ''\n",
    "\n",
    "#removing empty string value from Source\n",
    "while ('' in Source):\n",
    "    Source.remove(\"\")"
   ]
  },
  {
   "cell_type": "code",
   "execution_count": 377,
   "id": "25a28be1",
   "metadata": {},
   "outputs": [
    {
     "name": "stdout",
     "output_type": "stream",
     "text": [
      "2755\n",
      "2755\n",
      "2755\n",
      "2755\n",
      "2755\n",
      "2755\n",
      "2755\n"
     ]
    },
    {
     "data": {
      "text/plain": [
       "(None, None, None, None, None, None, None)"
      ]
     },
     "execution_count": 377,
     "metadata": {},
     "output_type": "execute_result"
    }
   ],
   "source": [
    "print(len(Rank)),print(len(Name)),print(len(Net_Worth)),print(len(Age)),print(len(Citizenship)),print(len(Source)),print(len(Industry))"
   ]
  },
  {
   "cell_type": "code",
   "execution_count": 378,
   "id": "4d5d3153",
   "metadata": {},
   "outputs": [],
   "source": [
    "Billonaires = {'Rank':Rank,'Name':Name,'Net Worth':Net_Worth,'Age':Age,'Citizenship':Citizenship,'Source':Source,'Industry':Industry}\n",
    "\n",
    "Billonairesdf = pd.DataFrame(Billonaires)\n",
    "Billonairesdf.reset_index(drop = True, inplace = True)\n",
    "Billonairesdf.index+=1"
   ]
  },
  {
   "cell_type": "code",
   "execution_count": 380,
   "id": "53d27e70",
   "metadata": {},
   "outputs": [
    {
     "data": {
      "text/html": [
       "<div>\n",
       "<style scoped>\n",
       "    .dataframe tbody tr th:only-of-type {\n",
       "        vertical-align: middle;\n",
       "    }\n",
       "\n",
       "    .dataframe tbody tr th {\n",
       "        vertical-align: top;\n",
       "    }\n",
       "\n",
       "    .dataframe thead th {\n",
       "        text-align: right;\n",
       "    }\n",
       "</style>\n",
       "<table border=\"1\" class=\"dataframe\">\n",
       "  <thead>\n",
       "    <tr style=\"text-align: right;\">\n",
       "      <th></th>\n",
       "      <th>Rank</th>\n",
       "      <th>Name</th>\n",
       "      <th>Net Worth</th>\n",
       "      <th>Age</th>\n",
       "      <th>Citizenship</th>\n",
       "      <th>Source</th>\n",
       "      <th>Industry</th>\n",
       "    </tr>\n",
       "  </thead>\n",
       "  <tbody>\n",
       "    <tr>\n",
       "      <th>1</th>\n",
       "      <td>1.</td>\n",
       "      <td>Jeff Bezos</td>\n",
       "      <td>$177 B</td>\n",
       "      <td>57</td>\n",
       "      <td>United States</td>\n",
       "      <td>Amazon</td>\n",
       "      <td>Technology</td>\n",
       "    </tr>\n",
       "    <tr>\n",
       "      <th>2</th>\n",
       "      <td>2.</td>\n",
       "      <td>Elon Musk</td>\n",
       "      <td>$151 B</td>\n",
       "      <td>49</td>\n",
       "      <td>United States</td>\n",
       "      <td>Tesla, SpaceX</td>\n",
       "      <td>Automotive</td>\n",
       "    </tr>\n",
       "    <tr>\n",
       "      <th>3</th>\n",
       "      <td>3.</td>\n",
       "      <td>Bernard Arnault &amp; family</td>\n",
       "      <td>$150 B</td>\n",
       "      <td>72</td>\n",
       "      <td>France</td>\n",
       "      <td>LVMH</td>\n",
       "      <td>Fashion &amp; Retail</td>\n",
       "    </tr>\n",
       "    <tr>\n",
       "      <th>4</th>\n",
       "      <td>4.</td>\n",
       "      <td>Bill Gates</td>\n",
       "      <td>$124 B</td>\n",
       "      <td>65</td>\n",
       "      <td>United States</td>\n",
       "      <td>Microsoft</td>\n",
       "      <td>Technology</td>\n",
       "    </tr>\n",
       "    <tr>\n",
       "      <th>5</th>\n",
       "      <td>5.</td>\n",
       "      <td>Mark Zuckerberg</td>\n",
       "      <td>$97 B</td>\n",
       "      <td>36</td>\n",
       "      <td>United States</td>\n",
       "      <td>Facebook</td>\n",
       "      <td>Technology</td>\n",
       "    </tr>\n",
       "    <tr>\n",
       "      <th>...</th>\n",
       "      <td>...</td>\n",
       "      <td>...</td>\n",
       "      <td>...</td>\n",
       "      <td>...</td>\n",
       "      <td>...</td>\n",
       "      <td>...</td>\n",
       "      <td>...</td>\n",
       "    </tr>\n",
       "    <tr>\n",
       "      <th>2751</th>\n",
       "      <td>2674.</td>\n",
       "      <td>Daniel Yong Zhang</td>\n",
       "      <td>$1 B</td>\n",
       "      <td>49</td>\n",
       "      <td>China</td>\n",
       "      <td>e-commerce</td>\n",
       "      <td>Technology</td>\n",
       "    </tr>\n",
       "    <tr>\n",
       "      <th>2752</th>\n",
       "      <td>2674.</td>\n",
       "      <td>Zhang Yuqiang</td>\n",
       "      <td>$1 B</td>\n",
       "      <td>65</td>\n",
       "      <td>China</td>\n",
       "      <td>Fiberglass</td>\n",
       "      <td>Manufacturing</td>\n",
       "    </tr>\n",
       "    <tr>\n",
       "      <th>2753</th>\n",
       "      <td>2674.</td>\n",
       "      <td>Zhao Meiguang</td>\n",
       "      <td>$1 B</td>\n",
       "      <td>58</td>\n",
       "      <td>China</td>\n",
       "      <td>gold mining</td>\n",
       "      <td>Metals &amp; Mining</td>\n",
       "    </tr>\n",
       "    <tr>\n",
       "      <th>2754</th>\n",
       "      <td>2674.</td>\n",
       "      <td>Zhong Naixiong</td>\n",
       "      <td>$1 B</td>\n",
       "      <td>58</td>\n",
       "      <td>China</td>\n",
       "      <td>conglomerate</td>\n",
       "      <td>Diversified</td>\n",
       "    </tr>\n",
       "    <tr>\n",
       "      <th>2755</th>\n",
       "      <td>2674.</td>\n",
       "      <td>Zhou Wei family</td>\n",
       "      <td>$1 B</td>\n",
       "      <td>54</td>\n",
       "      <td>China</td>\n",
       "      <td>Software</td>\n",
       "      <td>Technology</td>\n",
       "    </tr>\n",
       "  </tbody>\n",
       "</table>\n",
       "<p>2755 rows × 7 columns</p>\n",
       "</div>"
      ],
      "text/plain": [
       "       Rank                      Name Net Worth Age    Citizenship  \\\n",
       "1        1.                Jeff Bezos    $177 B  57  United States   \n",
       "2        2.                 Elon Musk    $151 B  49  United States   \n",
       "3        3.  Bernard Arnault & family    $150 B  72         France   \n",
       "4        4.                Bill Gates    $124 B  65  United States   \n",
       "5        5.           Mark Zuckerberg     $97 B  36  United States   \n",
       "...     ...                       ...       ...  ..            ...   \n",
       "2751  2674.         Daniel Yong Zhang      $1 B  49          China   \n",
       "2752  2674.             Zhang Yuqiang      $1 B  65          China   \n",
       "2753  2674.             Zhao Meiguang      $1 B  58          China   \n",
       "2754  2674.            Zhong Naixiong      $1 B  58          China   \n",
       "2755  2674.           Zhou Wei family      $1 B  54          China   \n",
       "\n",
       "             Source          Industry  \n",
       "1            Amazon        Technology  \n",
       "2     Tesla, SpaceX        Automotive  \n",
       "3              LVMH  Fashion & Retail  \n",
       "4         Microsoft        Technology  \n",
       "5          Facebook        Technology  \n",
       "...             ...               ...  \n",
       "2751     e-commerce        Technology  \n",
       "2752     Fiberglass     Manufacturing  \n",
       "2753    gold mining   Metals & Mining  \n",
       "2754   conglomerate       Diversified  \n",
       "2755       Software        Technology  \n",
       "\n",
       "[2755 rows x 7 columns]"
      ]
     },
     "execution_count": 380,
     "metadata": {},
     "output_type": "execute_result"
    }
   ],
   "source": [
    "Billonairesdf"
   ]
  },
  {
   "cell_type": "markdown",
   "id": "ce9346ca",
   "metadata": {},
   "source": [
    "# 9.Write a program to extract at least 500 Comments, Comment upvote and time when comment was posted from any YouTube Video"
   ]
  },
  {
   "cell_type": "code",
   "execution_count": 2,
   "id": "72cd08fd",
   "metadata": {},
   "outputs": [
    {
     "name": "stdout",
     "output_type": "stream",
     "text": [
      "Enter Youtube Video URL : https://www.youtube.com/\n"
     ]
    }
   ],
   "source": [
    "url = input('Enter Youtube Video URL : ')"
   ]
  },
  {
   "cell_type": "code",
   "execution_count": 43,
   "id": "5644d85c",
   "metadata": {},
   "outputs": [
    {
     "name": "stderr",
     "output_type": "stream",
     "text": [
      "<ipython-input-43-0d5f0b4be00f>:1: DeprecationWarning: executable_path has been deprecated, please pass in a Service object\n",
      "  driver = webdriver.Chrome(r\"C:/Users/siddh/Downloads/chromedriver_win32/chromedriver.exe\")\n"
     ]
    }
   ],
   "source": [
    "driver = webdriver.Chrome(r\"C:/Users/siddh/Downloads/chromedriver_win32/chromedriver.exe\")\n",
    "driver.get(url)\n",
    "driver.maximize_window()\n",
    "\n",
    "time.sleep(2)"
   ]
  },
  {
   "cell_type": "code",
   "execution_count": 45,
   "id": "72c6c21e",
   "metadata": {},
   "outputs": [
    {
     "name": "stderr",
     "output_type": "stream",
     "text": [
      "<ipython-input-45-676f485c4d7b>:1: DeprecationWarning: find_element_by_* commands are deprecated. Please use find_element() instead\n",
      "  search_bar = driver.find_element_by_xpath('/html/body/ytd-app/div/div/ytd-masthead/div[3]/div[2]/ytd-searchbox/form/div[1]/div[1]/input')\n",
      "<ipython-input-45-676f485c4d7b>:4: DeprecationWarning: find_element_by_* commands are deprecated. Please use find_element() instead\n",
      "  search_bttn = driver.find_element_by_xpath('/html/body/ytd-app/div/div/ytd-masthead/div[3]/div[2]/ytd-searchbox/button')\n"
     ]
    }
   ],
   "source": [
    "search_bar = driver.find_element_by_xpath('/html/body/ytd-app/div/div/ytd-masthead/div[3]/div[2]/ytd-searchbox/form/div[1]/div[1]/input')\n",
    "search_bar.send_keys(\"Data Science\")\n",
    "\n",
    "search_bttn = driver.find_element_by_xpath('/html/body/ytd-app/div/div/ytd-masthead/div[3]/div[2]/ytd-searchbox/button')\n",
    "search_bttn.click()\n",
    "\n",
    "time.sleep(2)"
   ]
  },
  {
   "cell_type": "code",
   "execution_count": 46,
   "id": "d4e5d29b",
   "metadata": {},
   "outputs": [],
   "source": [
    "comments = []\n",
    "comment_time = []\n",
    "Likes = []\n",
    "Time =[]\n",
    "No_of_likes = []"
   ]
  },
  {
   "cell_type": "code",
   "execution_count": 47,
   "id": "5ce2d01c",
   "metadata": {},
   "outputs": [
    {
     "name": "stderr",
     "output_type": "stream",
     "text": [
      "<ipython-input-47-d1ef5f6c3ced>:3: DeprecationWarning: find_element_by_* commands are deprecated. Please use find_element() instead\n",
      "  link_click = driver.find_element_by_xpath(\"//yt-formatted-string[@class = 'style-scope ytd-video-renderer']\")\n"
     ]
    }
   ],
   "source": [
    "# clicking on first video\n",
    "\n",
    "link_click = driver.find_element_by_xpath(\"//yt-formatted-string[@class = 'style-scope ytd-video-renderer']\")\n",
    "link_click.click()"
   ]
  },
  {
   "cell_type": "code",
   "execution_count": 48,
   "id": "01b47b49",
   "metadata": {},
   "outputs": [],
   "source": [
    "# 1000 time to scroll down to generate more comment\n",
    "\n",
    "for i in range (1000):\n",
    "    driver.execute_script(\"window.scrollBy(0,10000)\")"
   ]
  },
  {
   "cell_type": "code",
   "execution_count": 49,
   "id": "af495792",
   "metadata": {},
   "outputs": [
    {
     "name": "stderr",
     "output_type": "stream",
     "text": [
      "<ipython-input-49-ca806b9a3933>:3: DeprecationWarning: find_elements_by_* commands are deprecated. Please use find_elements() instead\n",
      "  cm_tags = driver.find_elements_by_id('content-text')\n"
     ]
    }
   ],
   "source": [
    "# Scrapping data for comments\n",
    "\n",
    "cm_tags = driver.find_elements_by_id('content-text')\n",
    "for cm in cm_tags:\n",
    "    if cm.text is None:\n",
    "        comments.append('--')\n",
    "    else:\n",
    "        comments.append(cm.text)"
   ]
  },
  {
   "cell_type": "code",
   "execution_count": 50,
   "id": "acfe17e6",
   "metadata": {},
   "outputs": [
    {
     "name": "stderr",
     "output_type": "stream",
     "text": [
      "<ipython-input-50-a7b066bcf55d>:3: DeprecationWarning: find_elements_by_* commands are deprecated. Please use find_elements() instead\n",
      "  tm_tags = driver.find_elements_by_xpath(\"//a[contains(text(),'ago')]\")\n"
     ]
    }
   ],
   "source": [
    "# Scrapping data for time when comments was posted\n",
    "\n",
    "tm_tags = driver.find_elements_by_xpath(\"//a[contains(text(),'ago')]\")\n",
    "for tm in tm_tags:\n",
    "    Time.append(tm.text)\n",
    "    \n",
    "for i in range(0,len(Time),2):\n",
    "    comment_time.append(Time[i])\n",
    "    \n",
    "    \n",
    "time.sleep(5)\n",
    "    "
   ]
  },
  {
   "cell_type": "code",
   "execution_count": 51,
   "id": "0e0bdeb5",
   "metadata": {},
   "outputs": [
    {
     "name": "stderr",
     "output_type": "stream",
     "text": [
      "<ipython-input-51-b9444e30ffc7>:3: DeprecationWarning: find_elements_by_* commands are deprecated. Please use find_elements() instead\n",
      "  like_tags = driver.find_elements_by_xpath(\"//span[@class = 'style-scope ytd-comment-action-buttons-renderer']\")\n"
     ]
    }
   ],
   "source": [
    "# Scrapping the data of comment_likes\n",
    "\n",
    "like_tags = driver.find_elements_by_xpath(\"//span[@class = 'style-scope ytd-comment-action-buttons-renderer']\")\n",
    "for like in like_tags:\n",
    "    Likes.append(like.text)\n",
    "    \n",
    "for i in range(1,len(Likes),2):\n",
    "    No_of_likes.append(Likes[i])\n",
    "    \n",
    "\n",
    "time.sleep(5)"
   ]
  },
  {
   "cell_type": "code",
   "execution_count": 52,
   "id": "ad1c49d1",
   "metadata": {},
   "outputs": [
    {
     "name": "stdout",
     "output_type": "stream",
     "text": [
      "240\n",
      "240\n",
      "240\n"
     ]
    },
    {
     "data": {
      "text/plain": [
       "(None, None, None)"
      ]
     },
     "execution_count": 52,
     "metadata": {},
     "output_type": "execute_result"
    }
   ],
   "source": [
    "print(len(comments)),print(len(comment_time)),print(len(No_of_likes))"
   ]
  },
  {
   "cell_type": "code",
   "execution_count": 53,
   "id": "cf99a00b",
   "metadata": {},
   "outputs": [],
   "source": [
    "Youtube = {\"Comments\":comments,\"Comments Time\":comment_time,\"Comment upvotes\":No_of_likes}\n",
    "Youtube = pd.DataFrame(Youtube)"
   ]
  },
  {
   "cell_type": "code",
   "execution_count": 54,
   "id": "309c9c24",
   "metadata": {},
   "outputs": [
    {
     "data": {
      "text/html": [
       "<div>\n",
       "<style scoped>\n",
       "    .dataframe tbody tr th:only-of-type {\n",
       "        vertical-align: middle;\n",
       "    }\n",
       "\n",
       "    .dataframe tbody tr th {\n",
       "        vertical-align: top;\n",
       "    }\n",
       "\n",
       "    .dataframe thead th {\n",
       "        text-align: right;\n",
       "    }\n",
       "</style>\n",
       "<table border=\"1\" class=\"dataframe\">\n",
       "  <thead>\n",
       "    <tr style=\"text-align: right;\">\n",
       "      <th></th>\n",
       "      <th>Comments</th>\n",
       "      <th>Comments Time</th>\n",
       "      <th>Comment upvotes</th>\n",
       "    </tr>\n",
       "  </thead>\n",
       "  <tbody>\n",
       "    <tr>\n",
       "      <th>0</th>\n",
       "      <td>🔥Explore Our FREE Courses With Completion Cert...</td>\n",
       "      <td>3 months ago</td>\n",
       "      <td>17</td>\n",
       "    </tr>\n",
       "    <tr>\n",
       "      <th>1</th>\n",
       "      <td>Great video! As an established data scientist ...</td>\n",
       "      <td>1 year ago</td>\n",
       "      <td>443</td>\n",
       "    </tr>\n",
       "    <tr>\n",
       "      <th>2</th>\n",
       "      <td>Great video. You did great explaining this. Th...</td>\n",
       "      <td>1 year ago</td>\n",
       "      <td>7</td>\n",
       "    </tr>\n",
       "    <tr>\n",
       "      <th>3</th>\n",
       "      <td>it was a great overview of all the process.  i...</td>\n",
       "      <td>3 years ago</td>\n",
       "      <td>58</td>\n",
       "    </tr>\n",
       "    <tr>\n",
       "      <th>4</th>\n",
       "      <td>Thank you for this super interesting video! :)...</td>\n",
       "      <td>1 year ago</td>\n",
       "      <td>18</td>\n",
       "    </tr>\n",
       "    <tr>\n",
       "      <th>...</th>\n",
       "      <td>...</td>\n",
       "      <td>...</td>\n",
       "      <td>...</td>\n",
       "    </tr>\n",
       "    <tr>\n",
       "      <th>235</th>\n",
       "      <td>great data analysis</td>\n",
       "      <td>2 years ago</td>\n",
       "      <td></td>\n",
       "    </tr>\n",
       "    <tr>\n",
       "      <th>236</th>\n",
       "      <td>Very helpful video 😘</td>\n",
       "      <td>8 months ago</td>\n",
       "      <td></td>\n",
       "    </tr>\n",
       "    <tr>\n",
       "      <th>237</th>\n",
       "      <td>thank for sharing knowledge</td>\n",
       "      <td>3 months ago</td>\n",
       "      <td></td>\n",
       "    </tr>\n",
       "    <tr>\n",
       "      <th>238</th>\n",
       "      <td>THIS VIDEO IS SO GOOD</td>\n",
       "      <td>2 years ago</td>\n",
       "      <td></td>\n",
       "    </tr>\n",
       "    <tr>\n",
       "      <th>239</th>\n",
       "      <td>is there will be any coding language is necess...</td>\n",
       "      <td>3 months ago</td>\n",
       "      <td>2</td>\n",
       "    </tr>\n",
       "  </tbody>\n",
       "</table>\n",
       "<p>240 rows × 3 columns</p>\n",
       "</div>"
      ],
      "text/plain": [
       "                                              Comments Comments Time  \\\n",
       "0    🔥Explore Our FREE Courses With Completion Cert...  3 months ago   \n",
       "1    Great video! As an established data scientist ...    1 year ago   \n",
       "2    Great video. You did great explaining this. Th...    1 year ago   \n",
       "3    it was a great overview of all the process.  i...   3 years ago   \n",
       "4    Thank you for this super interesting video! :)...    1 year ago   \n",
       "..                                                 ...           ...   \n",
       "235                                great data analysis   2 years ago   \n",
       "236                               Very helpful video 😘  8 months ago   \n",
       "237                        thank for sharing knowledge  3 months ago   \n",
       "238                              THIS VIDEO IS SO GOOD   2 years ago   \n",
       "239  is there will be any coding language is necess...  3 months ago   \n",
       "\n",
       "    Comment upvotes  \n",
       "0                17  \n",
       "1               443  \n",
       "2                 7  \n",
       "3                58  \n",
       "4                18  \n",
       "..              ...  \n",
       "235                  \n",
       "236                  \n",
       "237                  \n",
       "238                  \n",
       "239               2  \n",
       "\n",
       "[240 rows x 3 columns]"
      ]
     },
     "execution_count": 54,
     "metadata": {},
     "output_type": "execute_result"
    }
   ],
   "source": [
    "Youtube"
   ]
  },
  {
   "cell_type": "markdown",
   "id": "ca858d8c",
   "metadata": {},
   "source": [
    "# 10. Write a python program to scrape a data for all available Hostels from https://www.hostelworld.com/ in “London” location. You have to scrape hostel name, distance from city centre, ratings, total reviews, overall reviews, privates from price, dorms from price, facilities and property description"
   ]
  },
  {
   "cell_type": "code",
   "execution_count": 8,
   "id": "1abeb83b",
   "metadata": {},
   "outputs": [
    {
     "name": "stderr",
     "output_type": "stream",
     "text": [
      "<ipython-input-8-0385535e1663>:1: DeprecationWarning: executable_path has been deprecated, please pass in a Service object\n",
      "  driver = webdriver.Chrome(r\"C:/Users/siddh/Downloads/chromedriver_win32/chromedriver.exe\")\n"
     ]
    }
   ],
   "source": [
    "driver = webdriver.Chrome(r\"C:/Users/siddh/Downloads/chromedriver_win32/chromedriver.exe\")\n",
    "url = \"https://www.hostelworld.com/\"\n",
    "driver.get(url)\n",
    "driver.maximize_window()\n",
    "\n",
    "time.sleep(2)"
   ]
  },
  {
   "cell_type": "code",
   "execution_count": 10,
   "id": "921e69c3",
   "metadata": {},
   "outputs": [
    {
     "name": "stderr",
     "output_type": "stream",
     "text": [
      "<ipython-input-10-63a20413933a>:2: DeprecationWarning: find_element_by_* commands are deprecated. Please use find_element() instead\n",
      "  search_loc = driver.find_element_by_xpath('/html/body/div[3]/div/div/div[1]/div[1]/div/div[2]/div[4]/div/div[2]/div/div[1]/div/div/div/input')\n"
     ]
    }
   ],
   "source": [
    "#locating the location search bar\n",
    "search_loc = driver.find_element_by_xpath('/html/body/div[3]/div/div/div[1]/div[1]/div/div[2]/div[4]/div/div[2]/div/div[1]/div/div/div/input')\n",
    "search_loc.click()\n",
    "\n"
   ]
  },
  {
   "cell_type": "code",
   "execution_count": 11,
   "id": "a566fddd",
   "metadata": {},
   "outputs": [
    {
     "name": "stderr",
     "output_type": "stream",
     "text": [
      "<ipython-input-11-c8feb78d77cd>:2: DeprecationWarning: find_element_by_* commands are deprecated. Please use find_element() instead\n",
      "  srchbar = driver.find_element_by_xpath('/html/body/div[1]/div/div/div[1]/div[1]/div/div[2]/div[4]/div/div[2]/div/div[1]/div/div/div/input')\n"
     ]
    },
    {
     "ename": "NoSuchElementException",
     "evalue": "Message: no such element: Unable to locate element: {\"method\":\"xpath\",\"selector\":\"/html/body/div[1]/div/div/div[1]/div[1]/div/div[2]/div[4]/div/div[2]/div/div[1]/div/div/div/input\"}\n  (Session info: chrome=96.0.4664.110)\nStacktrace:\nBacktrace:\n\tOrdinal0 [0x00986903+2517251]\n\tOrdinal0 [0x0091F8E1+2095329]\n\tOrdinal0 [0x00822848+1058888]\n\tOrdinal0 [0x0084D448+1233992]\n\tOrdinal0 [0x0084D63B+1234491]\n\tOrdinal0 [0x00877812+1406994]\n\tOrdinal0 [0x0086650A+1336586]\n\tOrdinal0 [0x00875BBF+1399743]\n\tOrdinal0 [0x0086639B+1336219]\n\tOrdinal0 [0x008427A7+1189799]\n\tOrdinal0 [0x00843609+1193481]\n\tGetHandleVerifier [0x00B15904+1577972]\n\tGetHandleVerifier [0x00BC0B97+2279047]\n\tGetHandleVerifier [0x00A16D09+534521]\n\tGetHandleVerifier [0x00A15DB9+530601]\n\tOrdinal0 [0x00924FF9+2117625]\n\tOrdinal0 [0x009298A8+2136232]\n\tOrdinal0 [0x009299E2+2136546]\n\tOrdinal0 [0x00933541+2176321]\n\tBaseThreadInitThunk [0x7589FA29+25]\n\tRtlGetAppContainerNamedObjectPath [0x776A7A9E+286]\n\tRtlGetAppContainerNamedObjectPath [0x776A7A6E+238]\n",
     "output_type": "error",
     "traceback": [
      "\u001b[1;31m---------------------------------------------------------------------------\u001b[0m",
      "\u001b[1;31mNoSuchElementException\u001b[0m                    Traceback (most recent call last)",
      "\u001b[1;32m<ipython-input-11-c8feb78d77cd>\u001b[0m in \u001b[0;36m<module>\u001b[1;34m\u001b[0m\n\u001b[0;32m      1\u001b[0m \u001b[0mitem\u001b[0m \u001b[1;33m=\u001b[0m \u001b[1;34m'London, England'\u001b[0m\u001b[1;33m\u001b[0m\u001b[1;33m\u001b[0m\u001b[0m\n\u001b[1;32m----> 2\u001b[1;33m \u001b[0msrchbar\u001b[0m \u001b[1;33m=\u001b[0m \u001b[0mdriver\u001b[0m\u001b[1;33m.\u001b[0m\u001b[0mfind_element_by_xpath\u001b[0m\u001b[1;33m(\u001b[0m\u001b[1;34m'/html/body/div[1]/div/div/div[1]/div[1]/div/div[2]/div[4]/div/div[2]/div/div[1]/div/div/div/input'\u001b[0m\u001b[1;33m)\u001b[0m\u001b[1;33m\u001b[0m\u001b[1;33m\u001b[0m\u001b[0m\n\u001b[0m\u001b[0;32m      3\u001b[0m \u001b[0msrchbar\u001b[0m\u001b[1;33m.\u001b[0m\u001b[0msend_keys\u001b[0m\u001b[1;33m(\u001b[0m\u001b[0mitem\u001b[0m\u001b[1;33m)\u001b[0m \u001b[1;31m#entering search keyword \"London,England\"\u001b[0m\u001b[1;33m\u001b[0m\u001b[1;33m\u001b[0m\u001b[0m\n",
      "\u001b[1;32m~\\anaconda3\\lib\\site-packages\\selenium\\webdriver\\remote\\webdriver.py\u001b[0m in \u001b[0;36mfind_element_by_xpath\u001b[1;34m(self, xpath)\u001b[0m\n\u001b[0;32m    518\u001b[0m             \u001b[0mstacklevel\u001b[0m\u001b[1;33m=\u001b[0m\u001b[1;36m2\u001b[0m\u001b[1;33m,\u001b[0m\u001b[1;33m\u001b[0m\u001b[1;33m\u001b[0m\u001b[0m\n\u001b[0;32m    519\u001b[0m         )\n\u001b[1;32m--> 520\u001b[1;33m         \u001b[1;32mreturn\u001b[0m \u001b[0mself\u001b[0m\u001b[1;33m.\u001b[0m\u001b[0mfind_element\u001b[0m\u001b[1;33m(\u001b[0m\u001b[0mby\u001b[0m\u001b[1;33m=\u001b[0m\u001b[0mBy\u001b[0m\u001b[1;33m.\u001b[0m\u001b[0mXPATH\u001b[0m\u001b[1;33m,\u001b[0m \u001b[0mvalue\u001b[0m\u001b[1;33m=\u001b[0m\u001b[0mxpath\u001b[0m\u001b[1;33m)\u001b[0m\u001b[1;33m\u001b[0m\u001b[1;33m\u001b[0m\u001b[0m\n\u001b[0m\u001b[0;32m    521\u001b[0m \u001b[1;33m\u001b[0m\u001b[0m\n\u001b[0;32m    522\u001b[0m     \u001b[1;32mdef\u001b[0m \u001b[0mfind_elements_by_xpath\u001b[0m\u001b[1;33m(\u001b[0m\u001b[0mself\u001b[0m\u001b[1;33m,\u001b[0m \u001b[0mxpath\u001b[0m\u001b[1;33m)\u001b[0m \u001b[1;33m->\u001b[0m \u001b[0mWebElement\u001b[0m\u001b[1;33m:\u001b[0m\u001b[1;33m\u001b[0m\u001b[1;33m\u001b[0m\u001b[0m\n",
      "\u001b[1;32m~\\anaconda3\\lib\\site-packages\\selenium\\webdriver\\remote\\webdriver.py\u001b[0m in \u001b[0;36mfind_element\u001b[1;34m(self, by, value)\u001b[0m\n\u001b[0;32m   1242\u001b[0m             \u001b[0mvalue\u001b[0m \u001b[1;33m=\u001b[0m \u001b[1;34m'[name=\"%s\"]'\u001b[0m \u001b[1;33m%\u001b[0m \u001b[0mvalue\u001b[0m\u001b[1;33m\u001b[0m\u001b[1;33m\u001b[0m\u001b[0m\n\u001b[0;32m   1243\u001b[0m \u001b[1;33m\u001b[0m\u001b[0m\n\u001b[1;32m-> 1244\u001b[1;33m         return self.execute(Command.FIND_ELEMENT, {\n\u001b[0m\u001b[0;32m   1245\u001b[0m             \u001b[1;34m'using'\u001b[0m\u001b[1;33m:\u001b[0m \u001b[0mby\u001b[0m\u001b[1;33m,\u001b[0m\u001b[1;33m\u001b[0m\u001b[1;33m\u001b[0m\u001b[0m\n\u001b[0;32m   1246\u001b[0m             'value': value})['value']\n",
      "\u001b[1;32m~\\anaconda3\\lib\\site-packages\\selenium\\webdriver\\remote\\webdriver.py\u001b[0m in \u001b[0;36mexecute\u001b[1;34m(self, driver_command, params)\u001b[0m\n\u001b[0;32m    422\u001b[0m         \u001b[0mresponse\u001b[0m \u001b[1;33m=\u001b[0m \u001b[0mself\u001b[0m\u001b[1;33m.\u001b[0m\u001b[0mcommand_executor\u001b[0m\u001b[1;33m.\u001b[0m\u001b[0mexecute\u001b[0m\u001b[1;33m(\u001b[0m\u001b[0mdriver_command\u001b[0m\u001b[1;33m,\u001b[0m \u001b[0mparams\u001b[0m\u001b[1;33m)\u001b[0m\u001b[1;33m\u001b[0m\u001b[1;33m\u001b[0m\u001b[0m\n\u001b[0;32m    423\u001b[0m         \u001b[1;32mif\u001b[0m \u001b[0mresponse\u001b[0m\u001b[1;33m:\u001b[0m\u001b[1;33m\u001b[0m\u001b[1;33m\u001b[0m\u001b[0m\n\u001b[1;32m--> 424\u001b[1;33m             \u001b[0mself\u001b[0m\u001b[1;33m.\u001b[0m\u001b[0merror_handler\u001b[0m\u001b[1;33m.\u001b[0m\u001b[0mcheck_response\u001b[0m\u001b[1;33m(\u001b[0m\u001b[0mresponse\u001b[0m\u001b[1;33m)\u001b[0m\u001b[1;33m\u001b[0m\u001b[1;33m\u001b[0m\u001b[0m\n\u001b[0m\u001b[0;32m    425\u001b[0m             response['value'] = self._unwrap_value(\n\u001b[0;32m    426\u001b[0m                 response.get('value', None))\n",
      "\u001b[1;32m~\\anaconda3\\lib\\site-packages\\selenium\\webdriver\\remote\\errorhandler.py\u001b[0m in \u001b[0;36mcheck_response\u001b[1;34m(self, response)\u001b[0m\n\u001b[0;32m    245\u001b[0m                 \u001b[0malert_text\u001b[0m \u001b[1;33m=\u001b[0m \u001b[0mvalue\u001b[0m\u001b[1;33m[\u001b[0m\u001b[1;34m'alert'\u001b[0m\u001b[1;33m]\u001b[0m\u001b[1;33m.\u001b[0m\u001b[0mget\u001b[0m\u001b[1;33m(\u001b[0m\u001b[1;34m'text'\u001b[0m\u001b[1;33m)\u001b[0m\u001b[1;33m\u001b[0m\u001b[1;33m\u001b[0m\u001b[0m\n\u001b[0;32m    246\u001b[0m             \u001b[1;32mraise\u001b[0m \u001b[0mexception_class\u001b[0m\u001b[1;33m(\u001b[0m\u001b[0mmessage\u001b[0m\u001b[1;33m,\u001b[0m \u001b[0mscreen\u001b[0m\u001b[1;33m,\u001b[0m \u001b[0mstacktrace\u001b[0m\u001b[1;33m,\u001b[0m \u001b[0malert_text\u001b[0m\u001b[1;33m)\u001b[0m  \u001b[1;31m# type: ignore[call-arg]  # mypy is not smart enough here\u001b[0m\u001b[1;33m\u001b[0m\u001b[1;33m\u001b[0m\u001b[0m\n\u001b[1;32m--> 247\u001b[1;33m         \u001b[1;32mraise\u001b[0m \u001b[0mexception_class\u001b[0m\u001b[1;33m(\u001b[0m\u001b[0mmessage\u001b[0m\u001b[1;33m,\u001b[0m \u001b[0mscreen\u001b[0m\u001b[1;33m,\u001b[0m \u001b[0mstacktrace\u001b[0m\u001b[1;33m)\u001b[0m\u001b[1;33m\u001b[0m\u001b[1;33m\u001b[0m\u001b[0m\n\u001b[0m\u001b[0;32m    248\u001b[0m \u001b[1;33m\u001b[0m\u001b[0m\n\u001b[0;32m    249\u001b[0m     \u001b[1;32mdef\u001b[0m \u001b[0m_value_or_default\u001b[0m\u001b[1;33m(\u001b[0m\u001b[0mself\u001b[0m\u001b[1;33m,\u001b[0m \u001b[0mobj\u001b[0m\u001b[1;33m:\u001b[0m \u001b[0mMapping\u001b[0m\u001b[1;33m[\u001b[0m\u001b[0m_KT\u001b[0m\u001b[1;33m,\u001b[0m \u001b[0m_VT\u001b[0m\u001b[1;33m]\u001b[0m\u001b[1;33m,\u001b[0m \u001b[0mkey\u001b[0m\u001b[1;33m:\u001b[0m \u001b[0m_KT\u001b[0m\u001b[1;33m,\u001b[0m \u001b[0mdefault\u001b[0m\u001b[1;33m:\u001b[0m \u001b[0m_VT\u001b[0m\u001b[1;33m)\u001b[0m \u001b[1;33m->\u001b[0m \u001b[0m_VT\u001b[0m\u001b[1;33m:\u001b[0m\u001b[1;33m\u001b[0m\u001b[1;33m\u001b[0m\u001b[0m\n",
      "\u001b[1;31mNoSuchElementException\u001b[0m: Message: no such element: Unable to locate element: {\"method\":\"xpath\",\"selector\":\"/html/body/div[1]/div/div/div[1]/div[1]/div/div[2]/div[4]/div/div[2]/div/div[1]/div/div/div/input\"}\n  (Session info: chrome=96.0.4664.110)\nStacktrace:\nBacktrace:\n\tOrdinal0 [0x00986903+2517251]\n\tOrdinal0 [0x0091F8E1+2095329]\n\tOrdinal0 [0x00822848+1058888]\n\tOrdinal0 [0x0084D448+1233992]\n\tOrdinal0 [0x0084D63B+1234491]\n\tOrdinal0 [0x00877812+1406994]\n\tOrdinal0 [0x0086650A+1336586]\n\tOrdinal0 [0x00875BBF+1399743]\n\tOrdinal0 [0x0086639B+1336219]\n\tOrdinal0 [0x008427A7+1189799]\n\tOrdinal0 [0x00843609+1193481]\n\tGetHandleVerifier [0x00B15904+1577972]\n\tGetHandleVerifier [0x00BC0B97+2279047]\n\tGetHandleVerifier [0x00A16D09+534521]\n\tGetHandleVerifier [0x00A15DB9+530601]\n\tOrdinal0 [0x00924FF9+2117625]\n\tOrdinal0 [0x009298A8+2136232]\n\tOrdinal0 [0x009299E2+2136546]\n\tOrdinal0 [0x00933541+2176321]\n\tBaseThreadInitThunk [0x7589FA29+25]\n\tRtlGetAppContainerNamedObjectPath [0x776A7A9E+286]\n\tRtlGetAppContainerNamedObjectPath [0x776A7A6E+238]\n"
     ]
    }
   ],
   "source": [
    "item = 'London, England'\n",
    "srchbar = driver.find_element_by_xpath('/html/body/div[3]/div/div/div[1]/div[1]/div/div[2]/div[4]/div/div[2]/div/div[5]/button')\n",
    "srchbar.send_keys(item) #entering search keyword \"London,England\""
   ]
  },
  {
   "cell_type": "code",
   "execution_count": null,
   "id": "d067e5dd",
   "metadata": {},
   "outputs": [],
   "source": []
  }
 ],
 "metadata": {
  "kernelspec": {
   "display_name": "Python 3",
   "language": "python",
   "name": "python3"
  },
  "language_info": {
   "codemirror_mode": {
    "name": "ipython",
    "version": 3
   },
   "file_extension": ".py",
   "mimetype": "text/x-python",
   "name": "python",
   "nbconvert_exporter": "python",
   "pygments_lexer": "ipython3",
   "version": "3.8.8"
  }
 },
 "nbformat": 4,
 "nbformat_minor": 5
}
